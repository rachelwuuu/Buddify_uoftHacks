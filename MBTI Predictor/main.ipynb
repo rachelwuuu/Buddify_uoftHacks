{
  "nbformat": 4,
  "nbformat_minor": 0,
  "metadata": {
    "kernelspec": {
      "display_name": "Python 3",
      "language": "python",
      "name": "python3"
    },
    "language_info": {
      "codemirror_mode": {
        "name": "ipython",
        "version": 3
      },
      "file_extension": ".py",
      "mimetype": "text/x-python",
      "name": "python",
      "nbconvert_exporter": "python",
      "pygments_lexer": "ipython3",
      "version": "3.6.3"
    },
    "notify_time": "5",
    "toc": {
      "nav_menu": {},
      "number_sections": true,
      "sideBar": true,
      "skip_h1_title": false,
      "toc_cell": false,
      "toc_position": {},
      "toc_section_display": "block",
      "toc_window_display": false
    },
    "varInspector": {
      "cols": {
        "lenName": 16,
        "lenType": 16,
        "lenVar": 40
      },
      "kernels_config": {
        "python": {
          "delete_cmd_postfix": "",
          "delete_cmd_prefix": "del ",
          "library": "var_list.py",
          "varRefreshCmd": "print(var_dic_list())"
        },
        "r": {
          "delete_cmd_postfix": ") ",
          "delete_cmd_prefix": "rm(",
          "library": "var_list.r",
          "varRefreshCmd": "cat(var_dic_list()) "
        }
      },
      "position": {
        "height": "433px",
        "left": "1070px",
        "right": "20px",
        "top": "120px",
        "width": "357px"
      },
      "types_to_exclude": [
        "module",
        "function",
        "builtin_function_or_method",
        "instance",
        "_Feature"
      ],
      "window_display": false
    },
    "colab": {
      "name": "main.ipynb",
      "provenance": []
    }
  },
  "cells": [
    {
      "cell_type": "markdown",
      "metadata": {
        "id": "7sDJM6-rV2qn"
      },
      "source": [
        "# Introduction\n",
        "This jupyter notebook is accompanied with [MBTI Twitter personality classsification](https://www.github.com/sahilsehwag/twitter-mbti-personality-classifier) project. This notebook is created to easily explore our dataset, perform analysis and perform modelling. To use the final classifier refer to [README.md](https://www.github.com/sahilsehwag/twitter-mbti-personality-classifier) file of this project. Use [main.py](https://github.com/sahilsehwag/twitter-mbti-personality-classifier/blob/master/main.py) to perform personality classification on any twitter user.\n",
        "<br>\n",
        "### Dataset\n",
        "The [dataset](https://github.com/sahilsehwag/twitter-mbti-personality-classifier/blob/master/personality-test.csv) on which this classifier is trained, contains around 50 posts per user about 8000 users with their *MBTI*\n",
        "personality type known. Dataset is provided in the repo itself [personality-test.csv](https://github.com/sahilsehwag/twitter-mbti-personality-classifier/blob/master/personality-test.csv).\n",
        "<br>\n",
        "Few features of dataset are:\n",
        "* Posts of more than 8000 users.\n",
        "* Last 50 posts per user, each entry is separated by '|||'.\n",
        "\n",
        "### Challenges\n",
        "The main challenge with this particular dataset is the imbalance in dataset. The dataset is hugely imbalanced. I have tackled this problem by training a model for each characteristic pair. There is imbalance in different characteristic pair like IE pair. Different solutions to this problem are stated in below sections."
      ]
    },
    {
      "cell_type": "markdown",
      "metadata": {
        "id": "WxIjlTKHV2qp"
      },
      "source": [
        "# Setup"
      ]
    },
    {
      "cell_type": "markdown",
      "metadata": {
        "id": "T1VHqYlGV2qq"
      },
      "source": [
        "## Helper Methods"
      ]
    },
    {
      "cell_type": "code",
      "metadata": {
        "ExecuteTime": {
          "end_time": "2018-04-06T18:46:21.754319Z",
          "start_time": "2018-04-06T18:46:21.734133Z"
        },
        "id": "leW7UVzvV2qq"
      },
      "source": [
        "#printing on single line\n",
        "def printl(msg):\n",
        "    sys.stdout.write(\"\\r\" + str(msg))\n",
        "    sys.stdout.flush()\n",
        "\n",
        "\n",
        "#pickler\n",
        "def save(filepath, obj):\n",
        "    with open(filepath, 'wb') as file:\n",
        "        pickle.dump(obj, file, pickle.HIGHEST_PROTOCOL)\n",
        "\n",
        "\n",
        "#unpickler\n",
        "def load(filepath):\n",
        "    return pickle.load(filepath)"
      ],
      "execution_count": 1,
      "outputs": []
    },
    {
      "cell_type": "markdown",
      "metadata": {
        "id": "FFY0b7TLV2qq"
      },
      "source": [
        "## Imports"
      ]
    },
    {
      "cell_type": "code",
      "metadata": {
        "ExecuteTime": {
          "end_time": "2018-04-06T18:46:26.417553Z",
          "start_time": "2018-04-06T18:46:21.757793Z"
        },
        "colab": {
          "base_uri": "https://localhost:8080/"
        },
        "id": "GhGFB2qOV2qr",
        "outputId": "2662ccb3-af9c-48ec-b312-1e8bb7e1a590"
      },
      "source": [
        "import sys\n",
        "import re\n",
        "import string\n",
        "import pickle\n",
        "import os\n",
        "\n",
        "import numpy as np\n",
        "import pandas as pd\n",
        "import matplotlib.pyplot as plt\n",
        "\n",
        "from nltk.corpus import stopwords\n",
        "from nltk.stem import WordNetLemmatizer\n",
        "from nltk.stem import PorterStemmer\n",
        "\n",
        "from sklearn.feature_extraction.text import CountVectorizer, TfidfTransformer\n",
        "from sklearn.metrics import confusion_matrix, accuracy_score, classification_report, recall_score, f1_score\n",
        "from sklearn.preprocessing import LabelEncoder, OneHotEncoder\n",
        "from sklearn.model_selection import train_test_split, cross_val_score\n",
        "from sklearn.externals import joblib\n",
        "\n",
        "from sklearn.naive_bayes import MultinomialNB\n",
        "from sklearn.ensemble import RandomForestClassifier, ExtraTreesClassifier\n",
        "from sklearn.svm import SVC\n",
        "\n",
        "import tweepy"
      ],
      "execution_count": 2,
      "outputs": [
        {
          "output_type": "stream",
          "text": [
            "/usr/local/lib/python3.6/dist-packages/sklearn/externals/joblib/__init__.py:15: FutureWarning: sklearn.externals.joblib is deprecated in 0.21 and will be removed in 0.23. Please import this functionality directly from joblib, which can be installed with: pip install joblib. If this warning is raised when loading pickled models, you may need to re-serialize those models with scikit-learn 0.21+.\n",
            "  warnings.warn(msg, category=FutureWarning)\n"
          ],
          "name": "stderr"
        }
      ]
    },
    {
      "cell_type": "markdown",
      "metadata": {
        "id": "3mzdFSrJV2qr"
      },
      "source": [
        "## Loading Dataset\n",
        "I will add one column for each MBTI characteristic pair, since we will be training independent classifier model \n",
        "for each pair independently. The reason for this is because of imbalance present in our dataset. For example posts of \n",
        "introverts are very large as compared to extroverts. To understand and visualize this go to [**EDA**](#EDA-(Exploratory-Data-Analysis&#41;) section."
      ]
    },
    {
      "cell_type": "code",
      "metadata": {
        "ExecuteTime": {
          "end_time": "2018-04-06T18:46:32.142890Z",
          "start_time": "2018-04-06T18:46:26.421099Z"
        },
        "colab": {
          "base_uri": "https://localhost:8080/"
        },
        "id": "ZIPM0VmVV2qr",
        "outputId": "342283c1-18c9-45e0-9b51-680bcf07ef99"
      },
      "source": [
        "%%time\n",
        "df = pd.read_csv('personality-test.csv')\n",
        "df['ie'] = df.type\n",
        "df['ns'] = df.type\n",
        "df['ft'] = df.type\n",
        "df['pj'] = df.type\n",
        "\n",
        "for i, t in enumerate(df.type):\n",
        "    if 'I' in t:\n",
        "        df.ie[i] = 'I'\n",
        "    elif 'E' in t:\n",
        "        df.ie[i] = 'E'\n",
        "        \n",
        "    if 'N' in t:\n",
        "        df.ns[i] = 'N'\n",
        "    elif 'S' in t:\n",
        "        df.ns[i] = 'S'\n",
        "        \n",
        "    if 'F' in t:\n",
        "        df.ft[i] = 'F'\n",
        "    elif 'T' in t:\n",
        "        df.ft[i] = 'T'\n",
        "        \n",
        "    if 'P' in t:\n",
        "        df.pj[i] = 'P'\n",
        "    elif 'J' in t:\n",
        "        df.pj[i] = 'J'\n",
        "\n",
        "\n",
        "posts = df.posts.values\n",
        "yIE = df.ie.values\n",
        "yNS = df.ns.values\n",
        "yFT = df.ft.values\n",
        "yPJ = df.pj.values\n",
        "y = df.type"
      ],
      "execution_count": 3,
      "outputs": [
        {
          "output_type": "stream",
          "text": [
            "CPU times: user 3.16 s, sys: 92.2 ms, total: 3.26 s\n",
            "Wall time: 3.27 s\n"
          ],
          "name": "stdout"
        }
      ]
    },
    {
      "cell_type": "markdown",
      "metadata": {
        "id": "m1CRF0-NV2qs"
      },
      "source": [
        "## Preprocessing\n",
        "NOTE: this phase might take some time to execute due to computationaly expensive operations"
      ]
    },
    {
      "cell_type": "code",
      "metadata": {
        "ExecuteTime": {
          "end_time": "2018-04-06T18:46:32.399181Z",
          "start_time": "2018-04-06T18:46:32.146330Z"
        },
        "id": "cy3LHSD5V2qt"
      },
      "source": [
        "#regular expressions for tokenization\n",
        "regexes = [\n",
        "    #urls\n",
        "    #r'http[s]?://(?:[a-z]|[0-9]|[$-_@.&amp;+]|[!*\\(\\),]|(?:%[0-9a-f][0-9a-f]))+',\n",
        "    \n",
        "    #html\n",
        "    #r'<[^>]+>',\n",
        "    \n",
        "    #punctuation\n",
        "    r'(?:(\\w+)\\'s)',\n",
        "    \n",
        "    r'(?:\\s(\\w+)\\.+\\s)',\n",
        "    r'(?:\\s(\\w+),+\\s)',\n",
        "    r'(?:\\s(\\w+)\\?+\\s)',\n",
        "    r'(?:\\s(\\w+)!+\\s)',\n",
        "    \n",
        "    r'(?:\\'+(\\w+)\\'+)',\n",
        "    r'(?:\"+(\\w+)\"+)',\n",
        "    r'(?:\\[+(\\w+)\\]+)',\n",
        "    r'(?:{+(\\w+)}+)',\n",
        "    r'(?:\\(+(\\w+))',\n",
        "    r'(?:(\\w+)\\)+)',\n",
        "\n",
        "    #words containing numbers & special characters & punctuation\n",
        "    r'(?:(?:(?:[a-zA-Z])*(?:[0-9!\"#$%&\\'()*+,\\-./:;<=>?@\\[\\\\\\]^_`{|}~])+(?:[a-zA-Z])*)+)',\n",
        "    \n",
        "    #pure words\n",
        "    r'([a-zA-Z]+)',\n",
        "    \n",
        "    #numbers\n",
        "    #r'(?:(?:\\d+,?)+(?:\\.?\\d+)?)',\n",
        "\n",
        "    #emoticons\n",
        "    #r\"\"\"(?:[:=;][oO\\-]?[D\\)\\]\\(\\]/\\\\OpP])\"\"\",\n",
        "\n",
        "    #other words\n",
        "    #r'(?:[\\w_]+)',\n",
        "\n",
        "    #anything else\n",
        "    #r'(?:\\S)'\n",
        "]\n",
        "\n",
        "#compiling regular expression\n",
        "regex = re.compile(r'(?:'+'|'.join(regexes)+')', re.VERBOSE | re.IGNORECASE)\n",
        "\n",
        "\n",
        "def preprocess(documents):\n",
        "    lemmatizer = WordNetLemmatizer()\n",
        "    stemmer = PorterStemmer()\n",
        "    \n",
        "    #fetching list of stopwords\n",
        "    punctuation = list(string.punctuation)\n",
        "    swords = stopwords.words('english') + ['amp'] + ['monday', 'tuesday', 'wednesday', 'thursday', 'friday', 'saturday', 'sunday', 'january', 'feburary', 'march', 'april', 'may', 'june', 'july', 'august', 'september', 'october', 'november', 'december',  'mon', 'tue', 'wed', 'thu', 'fri', 'sat', 'sun',  'jan', 'feb', 'mar', 'apr', 'may', 'jun' 'jul', 'aug', 'sep', 'oct', 'nov', 'dec', 'tommorow', 'today', 'yesterday'] + ['mr', 'mrs']\n",
        "\n",
        "\n",
        "    processed_documents = []\n",
        "    for i,document in enumerate(documents):\n",
        "        printl('{0}/{1}'.format(i+1, len(documents)))\n",
        "        \n",
        "        #tokenization\n",
        "        tokens = regex.findall(document)\n",
        "\n",
        "        #skipping useless tokens\n",
        "        t_regex = re.compile(r\"[^a-zA-Z]\")\n",
        "        document = []\n",
        "        \n",
        "        for token in tokens:\n",
        "            token = np.array(token)\n",
        "            token = np.unique(token[token != ''])\n",
        "            \n",
        "            if len(token) > 0:\n",
        "                token = token[0].lower()\n",
        "            else:\n",
        "                continue\n",
        "                \n",
        "            if re.search(t_regex, token) == None and token not in swords:\n",
        "                token = lemmatizer.lemmatize(token)\n",
        "                document.append(token)\n",
        "                \n",
        "        document = ' '.join(document)\n",
        "\n",
        "        #skipping\n",
        "        if len(document) > 0:\n",
        "            processed_documents.append(document)\n",
        "\n",
        "    print()\n",
        "    return np.array(processed_documents)"
      ],
      "execution_count": 4,
      "outputs": []
    },
    {
      "cell_type": "code",
      "metadata": {
        "ExecuteTime": {
          "end_time": "2018-04-06T18:46:32.418856Z",
          "start_time": "2018-04-06T18:46:32.402911Z"
        },
        "colab": {
          "base_uri": "https://localhost:8080/"
        },
        "id": "YyyS4mFrV2qt",
        "outputId": "49aacef8-3551-4c26-840f-32aebd110170"
      },
      "source": [
        "%%time\n",
        "# posts = preprocess(posts)"
      ],
      "execution_count": 5,
      "outputs": [
        {
          "output_type": "stream",
          "text": [
            "CPU times: user 4 µs, sys: 0 ns, total: 4 µs\n",
            "Wall time: 7.39 µs\n"
          ],
          "name": "stdout"
        }
      ]
    },
    {
      "cell_type": "markdown",
      "metadata": {
        "id": "yViaZS6iV2qu"
      },
      "source": [
        "# Processing"
      ]
    },
    {
      "cell_type": "markdown",
      "metadata": {
        "id": "EGhfD-JKV2qu"
      },
      "source": [
        "I am only using document matrix, using TF-IDF weighing scheme will actually result in model's performance degradation. I think the reason is because our document are relatively small in nature due to small size nature of tweets."
      ]
    },
    {
      "cell_type": "code",
      "metadata": {
        "ExecuteTime": {
          "end_time": "2018-04-06T18:46:54.932980Z",
          "start_time": "2018-04-06T18:46:32.422438Z"
        },
        "colab": {
          "base_uri": "https://localhost:8080/"
        },
        "id": "8hhFQVt0V2qu",
        "outputId": "e4e97e37-66f3-4bc2-a8ac-33f95eddd0a2"
      },
      "source": [
        "%%time\n",
        "# creating document frequency matrix\n",
        "cv = CountVectorizer().fit(posts)\n",
        "X = cv.transform(posts)"
      ],
      "execution_count": 6,
      "outputs": [
        {
          "output_type": "stream",
          "text": [
            "CPU times: user 14.4 s, sys: 104 ms, total: 14.5 s\n",
            "Wall time: 14.6 s\n"
          ],
          "name": "stdout"
        }
      ]
    },
    {
      "cell_type": "markdown",
      "metadata": {
        "id": "IfXJoBa0V2qv"
      },
      "source": [
        "### Splitting Dataset"
      ]
    },
    {
      "cell_type": "code",
      "metadata": {
        "ExecuteTime": {
          "end_time": "2018-04-06T18:46:55.694833Z",
          "start_time": "2018-04-06T18:46:54.936135Z"
        },
        "id": "b26_x2DyV2qv"
      },
      "source": [
        "# splitting dataset into training and testing dataset\n",
        "xIETrain, xIETest, yIETrain, yIETest = train_test_split(X, yIE)\n",
        "xNSTrain, xNSTest, yNSTrain, yNSTest = train_test_split(X, yNS)\n",
        "xFTTrain, xFTTest, yFTTrain, yFTTest = train_test_split(X, yFT)\n",
        "xPJTrain, xPJTest, yPJTrain, yPJTest = train_test_split(X, yPJ)\n",
        "xTrain, xTest, yTrain, yTest = train_test_split(X, y)"
      ],
      "execution_count": 7,
      "outputs": []
    },
    {
      "cell_type": "markdown",
      "metadata": {
        "id": "sgFR-8TuV2qv"
      },
      "source": [
        "# EDA (Exploratory Data Analysis)"
      ]
    },
    {
      "cell_type": "markdown",
      "metadata": {
        "id": "Y0Vh77UVV2qv"
      },
      "source": [
        "As we can see that our dataset has disproportionate data. Due to this **heavy unbalance** in our dataset we will\n",
        "be training our classifiers independently for each characteristic pair. This unbalance makes it very difficult \n",
        "to work with different algorithms, specially probability based models. To look at this, refer to cells below in this section. For analysing the effect of this balance in machine learning algorithms using conventional approaches look at [result analysis section](#Analysing-our-Models-Results).\n",
        "\n",
        "This problem is called **Imbalanced Classification Problem**. Generally there are two approaches to tackle this kind of problem:\n",
        "* **Sampling**<br>\n",
        "    There are different sampling techniques to tackle this problem, we will be discussing few of them.\n",
        "    * *Random Sampling*\n",
        "    * *SMOTE*\n",
        "    * *Modified SMOTE*\n",
        "* **Ensemble Methods**\n",
        "\n",
        "I will be using type of *random sampling* technique called **undersampling**, In this approach we will randomly remove our sample instances from majority class until the size of majority class instances are equal to minority class instances."
      ]
    },
    {
      "cell_type": "code",
      "metadata": {
        "ExecuteTime": {
          "end_time": "2018-04-06T18:46:56.364334Z",
          "start_time": "2018-04-06T18:46:55.697058Z"
        },
        "colab": {
          "base_uri": "https://localhost:8080/",
          "height": 570
        },
        "id": "qkQDxMDZV2qv",
        "outputId": "619f347e-c30a-49d4-fd0b-15b41f722ccf"
      },
      "source": [
        "print(df.type.value_counts())\n",
        "df.type.hist(xrot=90)\n",
        "plt.show()"
      ],
      "execution_count": 8,
      "outputs": [
        {
          "output_type": "stream",
          "text": [
            "INFP    1832\n",
            "INFJ    1470\n",
            "INTP    1304\n",
            "INTJ    1091\n",
            "ENTP     685\n",
            "ENFP     675\n",
            "ISTP     337\n",
            "ISFP     271\n",
            "ENTJ     231\n",
            "ISTJ     205\n",
            "ENFJ     190\n",
            "ISFJ     166\n",
            "ESTP      89\n",
            "ESFP      48\n",
            "ESFJ      42\n",
            "ESTJ      39\n",
            "Name: type, dtype: int64\n"
          ],
          "name": "stdout"
        },
        {
          "output_type": "display_data",
          "data": {
            "image/png": "[encoded data removed]",
            "text/plain": [
              "<Figure size 432x288 with 1 Axes>"
            ]
          },
          "metadata": {
            "tags": [],
            "needs_background": "light"
          }
        }
      ]
    },
    {
      "cell_type": "markdown",
      "metadata": {
        "id": "zQdVH1XHV2qw"
      },
      "source": [
        "In cell below we can see that there is great **unbalance** in **Introvert/Extrovert** and **Intuition/Sensing** pairs. Whereas **Feeling/Thinking** and **Perception/Judgment** pairs are quite *balanced*. Although I have created trained models for each pair. Only last 2 pairs are somewhat reliable in predicting MBTI type. So it is\n",
        "not advised to depend on first 2 pairs i.e. **IE** and **NS** pairs. For analysis of results of various trained models is present below in [result analysis section](#Analysing-our-Models-Results)"
      ]
    },
    {
      "cell_type": "code",
      "metadata": {
        "ExecuteTime": {
          "end_time": "2018-04-06T18:46:57.071416Z",
          "start_time": "2018-04-06T18:46:56.368635Z"
        },
        "colab": {
          "base_uri": "https://localhost:8080/",
          "height": 1000
        },
        "id": "K_IfEy5xV2qw",
        "outputId": "17ab1f64-4db3-4f57-e824-afa824273663"
      },
      "source": [
        "print(df.ie.value_counts(), end='\\n\\n')\n",
        "print(df.ns.value_counts(), end='\\n\\n')\n",
        "print(df.ft.value_counts(), end='\\n\\n')\n",
        "print(df.pj.value_counts(), end='\\n\\n')\n",
        "\n",
        "df.ie.hist(); plt.show()\n",
        "df.ns.hist(); plt.show()\n",
        "df.ft.hist(); plt.show()\n",
        "df.pj.hist(); plt.show()"
      ],
      "execution_count": 9,
      "outputs": [
        {
          "output_type": "stream",
          "text": [
            "I    6676\n",
            "E    1999\n",
            "Name: ie, dtype: int64\n",
            "\n",
            "N    7478\n",
            "S    1197\n",
            "Name: ns, dtype: int64\n",
            "\n",
            "F    4694\n",
            "T    3981\n",
            "Name: ft, dtype: int64\n",
            "\n",
            "P    5241\n",
            "J    3434\n",
            "Name: pj, dtype: int64\n",
            "\n"
          ],
          "name": "stdout"
        },
        {
          "output_type": "display_data",
          "data": {
            "image/png": "[encoded data removed]",
            "text/plain": [
              "<Figure size 432x288 with 1 Axes>"
            ]
          },
          "metadata": {
            "tags": [],
            "needs_background": "light"
          }
        },
        {
          "output_type": "display_data",
          "data": {
            "image/png": "[encoded data removed]",
            "text/plain": [
              "<Figure size 432x288 with 1 Axes>"
            ]
          },
          "metadata": {
            "tags": [],
            "needs_background": "light"
          }
        },
        {
          "output_type": "display_data",
          "data": {
            "image/png": "[encoded data removed]",
            "text/plain": [
              "<Figure size 432x288 with 1 Axes>"
            ]
          },
          "metadata": {
            "tags": [],
            "needs_background": "light"
          }
        },
        {
          "output_type": "display_data",
          "data": {
            "image/png": "[encoded data removed]",
            "text/plain": [
              "<Figure size 432x288 with 1 Axes>"
            ]
          },
          "metadata": {
            "tags": [],
            "needs_background": "light"
          }
        }
      ]
    },
    {
      "cell_type": "markdown",
      "metadata": {
        "id": "JwQTMZVTV2qw"
      },
      "source": [
        "# Modelling"
      ]
    },
    {
      "cell_type": "markdown",
      "metadata": {
        "id": "9gvlpI6_V2qx"
      },
      "source": [
        "### Training our Models"
      ]
    },
    {
      "cell_type": "code",
      "metadata": {
        "ExecuteTime": {
          "end_time": "2018-04-06T18:46:57.741705Z",
          "start_time": "2018-04-06T18:46:57.074448Z"
        },
        "colab": {
          "base_uri": "https://localhost:8080/"
        },
        "id": "rsWmrxkNV2qx",
        "outputId": "40e90730-19b1-4b91-a884-59baf04c9f7b"
      },
      "source": [
        "%%time\n",
        "%time model = MultinomialNB().fit(xTrain, yTrain)\n",
        "%time ieModel = MultinomialNB().fit(xIETrain, yIETrain)\n",
        "%time nsModel = MultinomialNB().fit(xNSTrain, yNSTrain)\n",
        "%time ftModel = MultinomialNB().fit(xFTTrain, yFTTrain)\n",
        "%time pjModel = MultinomialNB().fit(xPJTrain, yPJTrain)"
      ],
      "execution_count": 10,
      "outputs": [
        {
          "output_type": "stream",
          "text": [
            "CPU times: user 186 ms, sys: 27 ms, total: 212 ms\n",
            "Wall time: 214 ms\n",
            "CPU times: user 55.4 ms, sys: 1.02 ms, total: 56.4 ms\n",
            "Wall time: 55.8 ms\n",
            "CPU times: user 60 ms, sys: 995 µs, total: 61 ms\n",
            "Wall time: 60.4 ms\n",
            "CPU times: user 58.5 ms, sys: 21 µs, total: 58.5 ms\n",
            "Wall time: 58.1 ms\n",
            "CPU times: user 64.7 ms, sys: 0 ns, total: 64.7 ms\n",
            "Wall time: 64 ms\n",
            "CPU times: user 430 ms, sys: 29.1 ms, total: 459 ms\n",
            "Wall time: 457 ms\n"
          ],
          "name": "stdout"
        }
      ]
    },
    {
      "cell_type": "markdown",
      "metadata": {
        "id": "yTsGwNBkV2qx"
      },
      "source": [
        "### Testing our Models"
      ]
    },
    {
      "cell_type": "markdown",
      "metadata": {
        "id": "peFmrg5fV2qx"
      },
      "source": [
        "As we can see our models performed relatively well despite the weaknesses present in our dataset. Although this accuracy is **superficial** in the cases of first 2 models i.e. **IE** and **NS**. The reason being that these are heavily biased towards a single characteristic value. This will be evident in [result analysis section](#Analysing-our-Models-Results) below.\n",
        "Our accuracy is just high because our most of data is belonging to one instance. Introvert for example in IE model."
      ]
    },
    {
      "cell_type": "code",
      "metadata": {
        "ExecuteTime": {
          "end_time": "2018-04-06T18:46:57.940134Z",
          "start_time": "2018-04-06T18:46:57.745911Z"
        },
        "colab": {
          "base_uri": "https://localhost:8080/"
        },
        "id": "W9403IM4V2qx",
        "outputId": "c1974743-2d41-4b0a-aead-860381beb0e0"
      },
      "source": [
        "print(model.score(xTest, yTest))\n",
        "print(ieModel.score(xIETest, yIETest))\n",
        "print(nsModel.score(xNSTest, yNSTest))\n",
        "print(ftModel.score(xFTTest, yFTTest))\n",
        "print(pjModel.score(xPJTest, yPJTest))"
      ],
      "execution_count": 11,
      "outputs": [
        {
          "output_type": "stream",
          "text": [
            "0.3397879207007838\n",
            "0.7754725680036884\n",
            "0.8450899031811895\n",
            "0.8054402950668511\n",
            "0.7081604426002767\n"
          ],
          "name": "stdout"
        }
      ]
    },
    {
      "cell_type": "markdown",
      "metadata": {
        "id": "Qb_Sfm3PV2qy"
      },
      "source": [
        "Instead of accuracy, which is a bad metric for imbalance dataset, we will be using **recall** and **f1 score**, to measure our model performance."
      ]
    },
    {
      "cell_type": "code",
      "metadata": {
        "ExecuteTime": {
          "end_time": "2018-04-06T19:18:40.409649Z",
          "start_time": "2018-04-06T19:18:40.007886Z"
        },
        "colab": {
          "base_uri": "https://localhost:8080/"
        },
        "id": "v84wLCW3V2qy",
        "outputId": "b7258d60-ef4e-4f24-8860-3afbae1a8be1"
      },
      "source": [
        "#minority classes\n",
        "print('MINORITY CLASSES:')\n",
        "print(recall_score(yIETest, ieModel.predict(xIETest), pos_label='E'))\n",
        "print(recall_score(yNSTest, nsModel.predict(xNSTest), pos_label='S'))\n",
        "print(recall_score(yFTTest, ftModel.predict(xFTTest), pos_label='T'))\n",
        "print(recall_score(yPJTest, pjModel.predict(xPJTest), pos_label='J'), end='\\n\\n')\n",
        "\n",
        "#majority classes\n",
        "print('MAJORITY CLASSES:')\n",
        "print(recall_score(yIETest, ieModel.predict(xIETest), pos_label='I'))\n",
        "print(recall_score(yNSTest, nsModel.predict(xNSTest), pos_label='N'))\n",
        "print(recall_score(yFTTest, ftModel.predict(xFTTest), pos_label='F'))\n",
        "print(recall_score(yPJTest, pjModel.predict(xPJTest), pos_label='P'))"
      ],
      "execution_count": 12,
      "outputs": [
        {
          "output_type": "stream",
          "text": [
            "MINORITY CLASSES:\n",
            "0.1483739837398374\n",
            "0.0851063829787234\n",
            "0.7321428571428571\n",
            "0.4287369640787949\n",
            "\n",
            "MAJORITY CLASSES:\n",
            "0.9594514013118665\n",
            "0.958664546899841\n",
            "0.8690783807062877\n",
            "0.892802450229709\n"
          ],
          "name": "stdout"
        }
      ]
    },
    {
      "cell_type": "code",
      "metadata": {
        "ExecuteTime": {
          "end_time": "2018-04-06T19:19:00.861521Z",
          "start_time": "2018-04-06T19:19:00.434506Z"
        },
        "colab": {
          "base_uri": "https://localhost:8080/"
        },
        "id": "c_DdEr44V2qy",
        "outputId": "11653c6f-5ef5-418e-b031-599b87d636f1"
      },
      "source": [
        "#minority classes\n",
        "print('MINORITY CLASSES:')\n",
        "print(f1_score(yIETest, ieModel.predict(xIETest), pos_label='E'))\n",
        "print(f1_score(yNSTest, nsModel.predict(xNSTest), pos_label='S'))\n",
        "print(f1_score(yFTTest, ftModel.predict(xFTTest), pos_label='T'))\n",
        "print(f1_score(yPJTest, pjModel.predict(xPJTest), pos_label='J'), end='\\n\\n')\n",
        "\n",
        "#majority classes\n",
        "print('MAJORITY CLASSES:')\n",
        "print(f1_score(yIETest, ieModel.predict(xIETest), pos_label='I'))\n",
        "print(f1_score(yNSTest, nsModel.predict(xNSTest), pos_label='N'))\n",
        "print(f1_score(yFTTest, ftModel.predict(xFTTest), pos_label='F'))\n",
        "print(f1_score(yPJTest, pjModel.predict(xPJTest), pos_label='P'))"
      ],
      "execution_count": 13,
      "outputs": [
        {
          "output_type": "stream",
          "text": [
            "MINORITY CLASSES:\n",
            "0.2306477093206951\n",
            "0.125\n",
            "0.7776606954689147\n",
            "0.538965768390386\n",
            "\n",
            "MAJORITY CLASSES:\n",
            "0.8685560053981106\n",
            "0.9150227617602428\n",
            "0.8270491803278689\n",
            "0.7865092748735245\n"
          ],
          "name": "stdout"
        }
      ]
    },
    {
      "cell_type": "markdown",
      "metadata": {
        "id": "cGWEcFRzV2qy"
      },
      "source": [
        "For better analysis or testing of our model, we will be using classification report to see **recall** which is measure of how much right predictions we make per characteristic. *Accuracy* is bad *classification metric* in our case due to **imbalanced classification problem**. Recall will give us better insight."
      ]
    },
    {
      "cell_type": "code",
      "metadata": {
        "ExecuteTime": {
          "end_time": "2018-04-06T18:48:48.986338Z",
          "start_time": "2018-04-06T18:48:48.891359Z"
        },
        "colab": {
          "base_uri": "https://localhost:8080/"
        },
        "id": "4_jwD3uxV2qz",
        "outputId": "0715ad27-873d-42db-d206-b1be0f9a2648"
      },
      "source": [
        "print(classification_report(yTest, model.predict(xTest)), end='\\n\\n')"
      ],
      "execution_count": 14,
      "outputs": [
        {
          "output_type": "stream",
          "text": [
            "              precision    recall  f1-score   support\n",
            "\n",
            "        ENFJ       0.00      0.00      0.00        49\n",
            "        ENFP       0.67      0.01      0.02       189\n",
            "        ENTJ       0.00      0.00      0.00        66\n",
            "        ENTP       0.40      0.01      0.02       158\n",
            "        ESFJ       0.00      0.00      0.00        14\n",
            "        ESFP       0.00      0.00      0.00         6\n",
            "        ESTJ       0.00      0.00      0.00         8\n",
            "        ESTP       0.00      0.00      0.00        21\n",
            "        INFJ       0.40      0.45      0.42       385\n",
            "        INFP       0.29      0.89      0.43       441\n",
            "        INTJ       0.58      0.12      0.20       277\n",
            "        INTP       0.45      0.41      0.43       333\n",
            "        ISFJ       0.00      0.00      0.00        34\n",
            "        ISFP       0.00      0.00      0.00        57\n",
            "        ISTJ       0.00      0.00      0.00        47\n",
            "        ISTP       0.00      0.00      0.00        84\n",
            "\n",
            "    accuracy                           0.34      2169\n",
            "   macro avg       0.17      0.12      0.10      2169\n",
            "weighted avg       0.36      0.34      0.26      2169\n",
            "\n",
            "\n"
          ],
          "name": "stdout"
        },
        {
          "output_type": "stream",
          "text": [
            "/usr/local/lib/python3.6/dist-packages/sklearn/metrics/_classification.py:1272: UndefinedMetricWarning: Precision and F-score are ill-defined and being set to 0.0 in labels with no predicted samples. Use `zero_division` parameter to control this behavior.\n",
            "  _warn_prf(average, modifier, msg_start, len(result))\n"
          ],
          "name": "stderr"
        }
      ]
    },
    {
      "cell_type": "markdown",
      "metadata": {
        "id": "AfLOxjkFV2qz"
      },
      "source": [
        "As it can be seen for first 2 pairs ie **IE** and **NS** the *recall* score is very low for minority classes. In first pair the recall score for \"extroverts\" is **0.13** which is amazingly bad."
      ]
    },
    {
      "cell_type": "code",
      "metadata": {
        "ExecuteTime": {
          "end_time": "2018-04-06T18:48:51.516984Z",
          "start_time": "2018-04-06T18:48:51.366138Z"
        },
        "colab": {
          "base_uri": "https://localhost:8080/"
        },
        "id": "s8ou6lT8V2qz",
        "outputId": "3ac6ca89-98fd-4ac3-8a90-5385ba6ce7c9"
      },
      "source": [
        "print(classification_report(yIETest, ieModel.predict(xIETest)), end='\\n\\n')\n",
        "print(classification_report(yNSTest, nsModel.predict(xNSTest)), end='\\n\\n')\n",
        "print(classification_report(yFTTest, ftModel.predict(xFTTest)), end='\\n\\n')\n",
        "print(classification_report(yPJTest, pjModel.predict(xPJTest)), end='\\n\\n')"
      ],
      "execution_count": 15,
      "outputs": [
        {
          "output_type": "stream",
          "text": [
            "              precision    recall  f1-score   support\n",
            "\n",
            "           E       0.52      0.15      0.23       492\n",
            "           I       0.79      0.96      0.87      1677\n",
            "\n",
            "    accuracy                           0.78      2169\n",
            "   macro avg       0.66      0.55      0.55      2169\n",
            "weighted avg       0.73      0.78      0.72      2169\n",
            "\n",
            "\n",
            "              precision    recall  f1-score   support\n",
            "\n",
            "           N       0.88      0.96      0.92      1887\n",
            "           S       0.24      0.09      0.12       282\n",
            "\n",
            "    accuracy                           0.85      2169\n",
            "   macro avg       0.56      0.52      0.52      2169\n",
            "weighted avg       0.79      0.85      0.81      2169\n",
            "\n",
            "\n",
            "              precision    recall  f1-score   support\n",
            "\n",
            "           F       0.79      0.87      0.83      1161\n",
            "           T       0.83      0.73      0.78      1008\n",
            "\n",
            "    accuracy                           0.81      2169\n",
            "   macro avg       0.81      0.80      0.80      2169\n",
            "weighted avg       0.81      0.81      0.80      2169\n",
            "\n",
            "\n",
            "              precision    recall  f1-score   support\n",
            "\n",
            "           J       0.73      0.43      0.54       863\n",
            "           P       0.70      0.89      0.79      1306\n",
            "\n",
            "    accuracy                           0.71      2169\n",
            "   macro avg       0.71      0.66      0.66      2169\n",
            "weighted avg       0.71      0.71      0.69      2169\n",
            "\n",
            "\n"
          ],
          "name": "stdout"
        }
      ]
    },
    {
      "cell_type": "markdown",
      "metadata": {
        "id": "_V7c_5cxV2qz"
      },
      "source": [
        "### Cross Validation"
      ]
    },
    {
      "cell_type": "markdown",
      "metadata": {
        "id": "5Rcs1mHAV2qz"
      },
      "source": [
        "To get actual performance of our models, I am using **KFold cross validation** with *k=10* to get actual performance. These values will be **pickled** along with models, so that these can be used in scripts to allow users to see\n",
        "performance and reliability of each model corresponding to their characteristic pair."
      ]
    },
    {
      "cell_type": "code",
      "metadata": {
        "ExecuteTime": {
          "end_time": "2018-04-06T19:11:48.277494Z",
          "start_time": "2018-04-06T19:11:34.124013Z"
        },
        "colab": {
          "base_uri": "https://localhost:8080/"
        },
        "id": "_h59nS2WV2qz",
        "outputId": "ad31d3a7-9c31-4bff-9814-c658a1bc5db9"
      },
      "source": [
        "scores = []\n",
        "\n",
        "scores.append(cross_val_score(estimator=model, cv=10, X=X, y=y, scoring='accuracy'))\n",
        "scores.append(cross_val_score(estimator=ieModel, cv=10, X=X, y=LabelEncoder().fit_transform(yIE), scoring='recall'))\n",
        "scores.append(cross_val_score(estimator=nsModel, cv=10, X=X, y=LabelEncoder().fit_transform(yNS), scoring='recall'))\n",
        "scores.append(cross_val_score(estimator=ftModel, cv=10, X=X, y=LabelEncoder().fit_transform(yFT), scoring='recall'))\n",
        "scores.append(cross_val_score(estimator=pjModel, cv=10, X=X, y=LabelEncoder().fit_transform(yPJ), scoring='recall'))\n",
        "\n",
        "#prining mean and standard deviations for each model\n",
        "for score in scores:\n",
        "    print(score.mean())\n",
        "    print(score.std(), end='\\n\\n')"
      ],
      "execution_count": 16,
      "outputs": [
        {
          "output_type": "stream",
          "text": [
            "0.3770589829859837\n",
            "0.011558744094853775\n",
            "\n",
            "0.9526658826275485\n",
            "0.010258951729609831\n",
            "\n",
            "0.11861344537815126\n",
            "0.024635189484677134\n",
            "\n",
            "0.7420271784990113\n",
            "0.016357892693655052\n",
            "\n",
            "0.8572784442021083\n",
            "0.010208014593669084\n",
            "\n"
          ],
          "name": "stdout"
        }
      ]
    },
    {
      "cell_type": "markdown",
      "metadata": {
        "id": "AizwolIqV2q0"
      },
      "source": [
        "### Analysing our Models Results"
      ]
    },
    {
      "cell_type": "markdown",
      "metadata": {
        "id": "_fdQVp6NV2q0"
      },
      "source": [
        "In case of this model where we are predicting MBTI type using all characteristics together. It can be seen heavy bias in results of trained model."
      ]
    },
    {
      "cell_type": "code",
      "metadata": {
        "ExecuteTime": {
          "end_time": "2018-04-06T18:49:38.960722Z",
          "start_time": "2018-04-06T18:49:38.527257Z"
        },
        "colab": {
          "base_uri": "https://localhost:8080/",
          "height": 723
        },
        "id": "beTMxv2sV2q0",
        "outputId": "d4f0a51d-0025-4232-9d03-fb9880c7d14a"
      },
      "source": [
        "print(pd.Series(yTest).value_counts(), end='\\n\\n')\n",
        "print(pd.Series(model.predict(xTest)).value_counts())\n",
        "\n",
        "pd.Series(yTest).hist(xrot=90, alpha=0.7)\n",
        "pd.Series(model.predict(xTest)).hist(xrot=90, alpha=0.7)\n",
        "plt.show()"
      ],
      "execution_count": 17,
      "outputs": [
        {
          "output_type": "stream",
          "text": [
            "INFP    441\n",
            "INFJ    385\n",
            "INTP    333\n",
            "INTJ    277\n",
            "ENFP    189\n",
            "ENTP    158\n",
            "ISTP     84\n",
            "ENTJ     66\n",
            "ISFP     57\n",
            "ENFJ     49\n",
            "ISTJ     47\n",
            "ISFJ     34\n",
            "ESTP     21\n",
            "ESFJ     14\n",
            "ESTJ      8\n",
            "ESFP      6\n",
            "Name: type, dtype: int64\n",
            "\n",
            "INFP    1375\n",
            "INFJ     427\n",
            "INTP     298\n",
            "INTJ      59\n",
            "ENTP       5\n",
            "ENFP       3\n",
            "ISFP       2\n",
            "dtype: int64\n"
          ],
          "name": "stdout"
        },
        {
          "output_type": "display_data",
          "data": {
            "image/png": "[encoded data removed]",
            "text/plain": [
              "<Figure size 432x288 with 1 Axes>"
            ]
          },
          "metadata": {
            "tags": [],
            "needs_background": "light"
          }
        }
      ]
    },
    {
      "cell_type": "markdown",
      "metadata": {
        "id": "2MO9DaO0V2q0"
      },
      "source": [
        "In next 2 models ie **IE** and **NS** models we can see that class distribution is heavily biased, this accounts for high accuracy in our results for these specific models."
      ]
    },
    {
      "cell_type": "code",
      "metadata": {
        "ExecuteTime": {
          "end_time": "2018-04-06T18:49:49.872975Z",
          "start_time": "2018-04-06T18:49:49.524188Z"
        },
        "colab": {
          "base_uri": "https://localhost:8080/",
          "height": 554
        },
        "id": "W1IwbzD3V2q0",
        "outputId": "f8de2cd1-d068-4739-9041-daf873495815"
      },
      "source": [
        "print(pd.Series(yIETest).value_counts(), end='\\n\\n')\n",
        "print(pd.Series(ieModel.predict(xIETest)).value_counts(), end='\\n\\n')\n",
        "print(classification_report(y_pred=ieModel.predict(xIETest), y_true=yIETest))\n",
        "\n",
        "pd.Series(yIETest).hist(alpha=0.7)\n",
        "pd.Series(ieModel.predict(xIETest)).hist(alpha=0.7)\n",
        "plt.show()"
      ],
      "execution_count": 18,
      "outputs": [
        {
          "output_type": "stream",
          "text": [
            "I    1677\n",
            "E     492\n",
            "dtype: int64\n",
            "\n",
            "I    2028\n",
            "E     141\n",
            "dtype: int64\n",
            "\n",
            "              precision    recall  f1-score   support\n",
            "\n",
            "           E       0.52      0.15      0.23       492\n",
            "           I       0.79      0.96      0.87      1677\n",
            "\n",
            "    accuracy                           0.78      2169\n",
            "   macro avg       0.66      0.55      0.55      2169\n",
            "weighted avg       0.73      0.78      0.72      2169\n",
            "\n"
          ],
          "name": "stdout"
        },
        {
          "output_type": "display_data",
          "data": {
            "image/png": "[encoded data removed]",
            "text/plain": [
              "<Figure size 432x288 with 1 Axes>"
            ]
          },
          "metadata": {
            "tags": [],
            "needs_background": "light"
          }
        }
      ]
    },
    {
      "cell_type": "code",
      "metadata": {
        "ExecuteTime": {
          "end_time": "2018-04-06T18:49:52.796423Z",
          "start_time": "2018-04-06T18:49:52.523698Z"
        },
        "colab": {
          "base_uri": "https://localhost:8080/",
          "height": 384
        },
        "id": "fwmWiPZLV2q1",
        "outputId": "cc59b0ff-d02e-4bed-9656-c9576cff2ee0"
      },
      "source": [
        "print(pd.Series(yNSTest).value_counts(), end='\\n\\n')\n",
        "print(pd.Series(nsModel.predict(xNSTest)).value_counts())\n",
        "\n",
        "pd.Series(yNSTest).hist(alpha=0.7)\n",
        "pd.Series(nsModel.predict(xNSTest)).hist(alpha=0.7)\n",
        "plt.show()"
      ],
      "execution_count": 19,
      "outputs": [
        {
          "output_type": "stream",
          "text": [
            "N    1887\n",
            "S     282\n",
            "dtype: int64\n",
            "\n",
            "N    2067\n",
            "S     102\n",
            "dtype: int64\n"
          ],
          "name": "stdout"
        },
        {
          "output_type": "display_data",
          "data": {
            "image/png": "[encoded data removed]",
            "text/plain": [
              "<Figure size 432x288 with 1 Axes>"
            ]
          },
          "metadata": {
            "tags": [],
            "needs_background": "light"
          }
        }
      ]
    },
    {
      "cell_type": "code",
      "metadata": {
        "ExecuteTime": {
          "end_time": "2018-04-06T18:49:55.585675Z",
          "start_time": "2018-04-06T18:49:55.390701Z"
        },
        "colab": {
          "base_uri": "https://localhost:8080/",
          "height": 384
        },
        "id": "VoxgN_5cV2q1",
        "outputId": "9a183db8-d936-4df3-db01-f8d9fa4c3133"
      },
      "source": [
        "print(pd.Series(yFTTest).value_counts(), end='\\n\\n')\n",
        "print(pd.Series(ftModel.predict(xFTTest)).value_counts())\n",
        "\n",
        "pd.Series(yFTTest).hist(alpha=0.7)\n",
        "pd.Series(ftModel.predict(xFTTest)).hist(alpha=0.7)\n",
        "plt.show()"
      ],
      "execution_count": 20,
      "outputs": [
        {
          "output_type": "stream",
          "text": [
            "F    1161\n",
            "T    1008\n",
            "dtype: int64\n",
            "\n",
            "F    1279\n",
            "T     890\n",
            "dtype: int64\n"
          ],
          "name": "stdout"
        },
        {
          "output_type": "display_data",
          "data": {
            "image/png": "[encoded data removed]",
            "text/plain": [
              "<Figure size 432x288 with 1 Axes>"
            ]
          },
          "metadata": {
            "tags": [],
            "needs_background": "light"
          }
        }
      ]
    },
    {
      "cell_type": "code",
      "metadata": {
        "ExecuteTime": {
          "end_time": "2018-04-06T18:49:58.544826Z",
          "start_time": "2018-04-06T18:49:58.275451Z"
        },
        "colab": {
          "base_uri": "https://localhost:8080/",
          "height": 384
        },
        "id": "aJKZXVzYV2q1",
        "outputId": "777011d3-e293-47b8-d812-7e78fca522fb"
      },
      "source": [
        "print(pd.Series(yPJTest).value_counts(), end='\\n\\n')\n",
        "print(pd.Series(pjModel.predict(xPJTest)).value_counts())\n",
        "\n",
        "pd.Series(yPJTest).hist(alpha=0.7)\n",
        "pd.Series(pjModel.predict(xPJTest)).hist(alpha=0.7)\n",
        "plt.show()"
      ],
      "execution_count": 21,
      "outputs": [
        {
          "output_type": "stream",
          "text": [
            "P    1306\n",
            "J     863\n",
            "dtype: int64\n",
            "\n",
            "P    1659\n",
            "J     510\n",
            "dtype: int64\n"
          ],
          "name": "stdout"
        },
        {
          "output_type": "display_data",
          "data": {
            "image/png": "[encoded data removed]",
            "text/plain": [
              "<Figure size 432x288 with 1 Axes>"
            ]
          },
          "metadata": {
            "tags": [],
            "needs_background": "light"
          }
        }
      ]
    },
    {
      "cell_type": "markdown",
      "metadata": {
        "id": "-1e_rb9VV2q1"
      },
      "source": [
        "### Pickling our Models"
      ]
    },
    {
      "cell_type": "code",
      "metadata": {
        "ExecuteTime": {
          "end_time": "2018-04-06T18:46:58.395812Z",
          "start_time": "2018-04-06T18:46:21.852Z"
        },
        "colab": {
          "base_uri": "https://localhost:8080/"
        },
        "id": "z_Dp3wfGV2q1",
        "outputId": "02cfd169-503c-4b7a-e2dc-cecf340d3d1c"
      },
      "source": [
        "models = {\n",
        "    'models': [model, ieModel, nsModel, ftModel, pjModel],\n",
        "    'usable': [False, False, False, True, True]\n",
        "}\n",
        "joblib.dump(models, 'models.pkl')"
      ],
      "execution_count": 23,
      "outputs": [
        {
          "output_type": "execute_result",
          "data": {
            "text/plain": [
              "['models.pkl']"
            ]
          },
          "metadata": {
            "tags": []
          },
          "execution_count": 23
        }
      ]
    },
    {
      "cell_type": "markdown",
      "metadata": {
        "id": "lqHA5bR2V2q2"
      },
      "source": [
        "# Twitter"
      ]
    },
    {
      "cell_type": "code",
      "metadata": {
        "ExecuteTime": {
          "end_time": "2018-04-06T18:49:26.777882Z",
          "start_time": "2018-04-06T18:49:26.767172Z"
        },
        "id": "QxHsl68oV2q3"
      },
      "source": [
        "document = cv.transform([' '.join(tweets)])"
      ],
      "execution_count": null,
      "outputs": []
    },
    {
      "cell_type": "markdown",
      "metadata": {
        "ExecuteTime": {
          "end_time": "2018-04-05T08:10:21.460236Z",
          "start_time": "2018-04-05T08:10:21.455000Z"
        },
        "id": "pvO2jhlrV2q3"
      },
      "source": [
        "### Predicting MBTI Personality"
      ]
    },
    {
      "cell_type": "code",
      "metadata": {
        "ExecuteTime": {
          "end_time": "2018-04-06T18:49:29.172410Z",
          "start_time": "2018-04-06T18:49:29.154785Z"
        },
        "colab": {
          "base_uri": "https://localhost:8080/",
          "height": 129
        },
        "id": "Zy4NhMxyV2q3",
        "outputId": "20d8ad25-6d80-4f6f-8ed0-73a9a3c68bb5"
      },
      "source": [
        "ieModel.predict(\"I feel alone\")"
      ],
      "execution_count": 25,
      "outputs": [
        {
          "output_type": "error",
          "ename": "SyntaxError",
          "evalue": "ignored",
          "traceback": [
            "\u001b[0;36m  File \u001b[0;32m\"<ipython-input-25-2615c9eaf14b>\"\u001b[0;36m, line \u001b[0;32m1\u001b[0m\n\u001b[0;31m    print(ieModel.predict(\"I feel alone\")\u001b[0m\n\u001b[0m                                         ^\u001b[0m\n\u001b[0;31mSyntaxError\u001b[0m\u001b[0;31m:\u001b[0m unexpected EOF while parsing\n"
          ]
        }
      ]
    },
    {
      "cell_type": "code",
      "metadata": {
        "id": "-FV0iVHlcxlu"
      },
      "source": [
        "import pandas as pd\r\n",
        "import numpy as np\r\n",
        "import re\r\n",
        "\r\n",
        "# plotting\r\n",
        "import seaborn as sns\r\n",
        "import matplotlib.pyplot as plt\r\n",
        "%matplotlib inline\r\n",
        "\r\n",
        "# read data\r\n",
        "data = pd.read_csv('personality-test.csv') "
      ],
      "execution_count": 30,
      "outputs": []
    },
    {
      "cell_type": "code",
      "metadata": {
        "colab": {
          "base_uri": "https://localhost:8080/",
          "height": 359
        },
        "id": "_N2OspRjwBnA",
        "outputId": "1a483dec-897e-4351-c6ff-e4b5ad756787"
      },
      "source": [
        "data.head(10)"
      ],
      "execution_count": 31,
      "outputs": [
        {
          "output_type": "execute_result",
          "data": {
            "text/html": [
              "<div>\n",
              "<style scoped>\n",
              "    .dataframe tbody tr th:only-of-type {\n",
              "        vertical-align: middle;\n",
              "    }\n",
              "\n",
              "    .dataframe tbody tr th {\n",
              "        vertical-align: top;\n",
              "    }\n",
              "\n",
              "    .dataframe thead th {\n",
              "        text-align: right;\n",
              "    }\n",
              "</style>\n",
              "<table border=\"1\" class=\"dataframe\">\n",
              "  <thead>\n",
              "    <tr style=\"text-align: right;\">\n",
              "      <th></th>\n",
              "      <th>type</th>\n",
              "      <th>posts</th>\n",
              "    </tr>\n",
              "  </thead>\n",
              "  <tbody>\n",
              "    <tr>\n",
              "      <th>0</th>\n",
              "      <td>INFJ</td>\n",
              "      <td>'http://www.youtube.com/watch?v=qsXHcwe3krw|||...</td>\n",
              "    </tr>\n",
              "    <tr>\n",
              "      <th>1</th>\n",
              "      <td>ENTP</td>\n",
              "      <td>'I'm finding the lack of me in these posts ver...</td>\n",
              "    </tr>\n",
              "    <tr>\n",
              "      <th>2</th>\n",
              "      <td>INTP</td>\n",
              "      <td>'Good one  _____   https://www.youtube.com/wat...</td>\n",
              "    </tr>\n",
              "    <tr>\n",
              "      <th>3</th>\n",
              "      <td>INTJ</td>\n",
              "      <td>'Dear INTP,   I enjoyed our conversation the o...</td>\n",
              "    </tr>\n",
              "    <tr>\n",
              "      <th>4</th>\n",
              "      <td>ENTJ</td>\n",
              "      <td>'You're fired.|||That's another silly misconce...</td>\n",
              "    </tr>\n",
              "    <tr>\n",
              "      <th>5</th>\n",
              "      <td>INTJ</td>\n",
              "      <td>'18/37 @.@|||Science  is not perfect. No scien...</td>\n",
              "    </tr>\n",
              "    <tr>\n",
              "      <th>6</th>\n",
              "      <td>INFJ</td>\n",
              "      <td>'No, I can't draw on my own nails (haha). Thos...</td>\n",
              "    </tr>\n",
              "    <tr>\n",
              "      <th>7</th>\n",
              "      <td>INTJ</td>\n",
              "      <td>'I tend to build up a collection of things on ...</td>\n",
              "    </tr>\n",
              "    <tr>\n",
              "      <th>8</th>\n",
              "      <td>INFJ</td>\n",
              "      <td>I'm not sure, that's a good question. The dist...</td>\n",
              "    </tr>\n",
              "    <tr>\n",
              "      <th>9</th>\n",
              "      <td>INTP</td>\n",
              "      <td>'https://www.youtube.com/watch?v=w8-egj0y8Qs||...</td>\n",
              "    </tr>\n",
              "  </tbody>\n",
              "</table>\n",
              "</div>"
            ],
            "text/plain": [
              "   type                                              posts\n",
              "0  INFJ  'http://www.youtube.com/watch?v=qsXHcwe3krw|||...\n",
              "1  ENTP  'I'm finding the lack of me in these posts ver...\n",
              "2  INTP  'Good one  _____   https://www.youtube.com/wat...\n",
              "3  INTJ  'Dear INTP,   I enjoyed our conversation the o...\n",
              "4  ENTJ  'You're fired.|||That's another silly misconce...\n",
              "5  INTJ  '18/37 @.@|||Science  is not perfect. No scien...\n",
              "6  INFJ  'No, I can't draw on my own nails (haha). Thos...\n",
              "7  INTJ  'I tend to build up a collection of things on ...\n",
              "8  INFJ  I'm not sure, that's a good question. The dist...\n",
              "9  INTP  'https://www.youtube.com/watch?v=w8-egj0y8Qs||..."
            ]
          },
          "metadata": {
            "tags": []
          },
          "execution_count": 31
        }
      ]
    },
    {
      "cell_type": "code",
      "metadata": {
        "colab": {
          "base_uri": "https://localhost:8080/"
        },
        "id": "ORRLQHRrwFAI",
        "outputId": "479af23f-d4fb-40fe-bff6-26a0a852f7ed"
      },
      "source": [
        "[p.split('|||') for p in data.head(2).posts.values]"
      ],
      "execution_count": 32,
      "outputs": [
        {
          "output_type": "execute_result",
          "data": {
            "text/plain": [
              "[[\"'http://www.youtube.com/watch?v=qsXHcwe3krw\",\n",
              "  'http://41.media.tumblr.com/tumblr_lfouy03PMA1qa1rooo1_500.jpg',\n",
              "  'enfp and intj moments  https://www.youtube.com/watch?v=iz7lE1g4XM4  sportscenter not top ten plays  https://www.youtube.com/watch?v=uCdfze1etec  pranks',\n",
              "  'What has been the most life-changing experience in your life?',\n",
              "  'http://www.youtube.com/watch?v=vXZeYwwRDw8   http://www.youtube.com/watch?v=u8ejam5DP3E  On repeat for most of today.',\n",
              "  'May the PerC Experience immerse you.',\n",
              "  'The last thing my INFJ friend posted on his facebook before committing suicide the next day. Rest in peace~   http://vimeo.com/22842206',\n",
              "  \"Hello ENFJ7. Sorry to hear of your distress. It's only natural for a relationship to not be perfection all the time in every moment of existence. Try to figure the hard times as times of growth, as...\",\n",
              "  '84389  84390  http://wallpaperpassion.com/upload/23700/friendship-boy-and-girl-wallpaper.jpg  http://assets.dornob.com/wp-content/uploads/2010/04/round-home-design.jpg ...',\n",
              "  'Welcome and stuff.',\n",
              "  'http://playeressence.com/wp-content/uploads/2013/08/RED-red-the-pokemon-master-32560474-450-338.jpg  Game. Set. Match.',\n",
              "  \"Prozac, wellbrutin, at least thirty minutes of moving your legs (and I don't mean moving them while sitting in your same desk chair), weed in moderation (maybe try edibles as a healthier alternative...\",\n",
              "  \"Basically come up with three items you've determined that each type (or whichever types you want to do) would more than likely use, given each types' cognitive functions and whatnot, when left by...\",\n",
              "  'All things in moderation.  Sims is indeed a video game, and a good one at that. Note: a good one at that is somewhat subjective in that I am not completely promoting the death of any given Sim...',\n",
              "  'Dear ENFP:  What were your favorite video games growing up and what are your now, current favorite video games? :cool:',\n",
              "  'https://www.youtube.com/watch?v=QyPqT8umzmY',\n",
              "  'It appears to be too late. :sad:',\n",
              "  \"There's someone out there for everyone.\",\n",
              "  'Wait... I thought confidence was a good thing.',\n",
              "  \"I just cherish the time of solitude b/c i revel within my inner world more whereas most other time i'd be workin... just enjoy the me time while you can. Don't worry, people will always be around to...\",\n",
              "  \"Yo entp ladies... if you're into a complimentary personality,well, hey.\",\n",
              "  '... when your main social outlet is xbox live conversations and even then you verbally fatigue quickly.',\n",
              "  'http://www.youtube.com/watch?v=gDhy7rdfm14  I really dig the part from 1:46 to 2:50',\n",
              "  'http://www.youtube.com/watch?v=msqXffgh7b8',\n",
              "  'Banned because this thread requires it of me.',\n",
              "  'Get high in backyard, roast and eat marshmellows in backyard while conversing over something intellectual, followed by massages and kisses.',\n",
              "  'http://www.youtube.com/watch?v=Mw7eoU3BMbE',\n",
              "  'http://www.youtube.com/watch?v=4V2uYORhQOk',\n",
              "  'http://www.youtube.com/watch?v=SlVmgFQQ0TI',\n",
              "  \"Banned for too many b's in that sentence. How could you! Think of the B!\",\n",
              "  'Banned for watching movies in the corner with the dunces.',\n",
              "  'Banned because Health class clearly taught you nothing about peer pressure.',\n",
              "  'Banned for a whole host of reasons!',\n",
              "  'http://www.youtube.com/watch?v=IRcrv41hgz4',\n",
              "  \"1) Two baby deer on left and right munching on a beetle in the middle.  2) Using their own blood, two cavemen diary today's latest happenings on their designated cave diary wall.  3) I see it as...\",\n",
              "  'a pokemon world  an infj society  everyone becomes an optimist',\n",
              "  '49142',\n",
              "  'http://www.youtube.com/watch?v=ZRCEq_JFeFM',\n",
              "  'http://discovermagazine.com/2012/jul-aug/20-things-you-didnt-know-about-deserts/desert.jpg',\n",
              "  'http://oyster.ignimgs.com/mediawiki/apis.ign.com/pokemon-silver-version/d/dd/Ditto.gif',\n",
              "  'http://www.serebii.net/potw-dp/Scizor.jpg',\n",
              "  \"Not all artists are artists because they draw. It's the idea that counts in forming something of your own... like a signature.\",\n",
              "  \"Welcome to the robot ranks, person who downed my self-esteem cuz I'm not an avid signature artist like herself. :proud:\",\n",
              "  'Banned for taking all the room under my bed. Ya gotta learn to share with the roaches.',\n",
              "  'http://www.youtube.com/watch?v=w8IgImn57aQ',\n",
              "  'Banned for being too much of a thundering, grumbling kind of storm... yep.',\n",
              "  \"Ahh... old high school music I haven't heard in ages.   http://www.youtube.com/watch?v=dcCRUPCdB1w\",\n",
              "  \"I failed a public speaking class a few years ago and I've sort of learned what I could do better were I to be in that position again. A big part of my failure was just overloading myself with too...\",\n",
              "  \"I like this person's mentality. He's a confirmed INTJ by the way. http://www.youtube.com/watch?v=hGKLI-GEc6M\",\n",
              "  \"Move to the Denver area and start a new life for myself.'\"],\n",
              " [\"'I'm finding the lack of me in these posts very alarming.\",\n",
              "  \"Sex can be boring if it's in the same position often. For example me and my girlfriend are currently in an environment where we have to creatively use cowgirl and missionary. There isn't enough...\",\n",
              "  \"Giving new meaning to 'Game' theory.\",\n",
              "  \"Hello *ENTP Grin*  That's all it takes. Than we converse and they do most of the flirting while I acknowledge their presence and return their words with smooth wordplay and more cheeky grins.\",\n",
              "  'This + Lack of Balance and Hand Eye Coordination.',\n",
              "  \"Real IQ test I score 127. Internet IQ tests are funny. I score 140s or higher.  Now, like the former responses of this thread I will mention that I don't believe in the IQ test. Before you banish...\",\n",
              "  \"You know you're an ENTP when you vanish from a site for a year and a half, return, and find people are still commenting on your posts and liking your ideas/thoughts. You know you're an ENTP when you...\",\n",
              "  'http://img188.imageshack.us/img188/6422/6020d1f9da6944a6b71bbe6.jpg',\n",
              "  'http://img.adultdvdtalk.com/813a0c6243814cab84c51',\n",
              "  'I over think things sometimes. I go by the old Sherlock Holmes quote.  Perhaps, when a man has special knowledge and special powers like my  own, it rather encourages him to seek a complex...',\n",
              "  'cheshirewolf.tumblr.com  So is I :D',\n",
              "  '400,000+  post',\n",
              "  \"Not really; I've never thought of E/I or J/P as real functions.  I judge myself on what I use. I use Ne and Ti as my dominates. Fe for emotions and rarely Si. I also use Ni due to me strength...\",\n",
              "  'You know though. That was ingenious. After saying it I really want to try it and see what happens with me playing a first person shooter in the back while we drive around. I want to see the look on...',\n",
              "  \"out of all of them the rock paper one is the best. It makes me lol.  You guys are lucky :D I'm really high up on the tumblr system.\",\n",
              "  \"So did you hear about that new first person shooter game? I've been rocking the hell out of the soundtrack on my auto sound equipment that will shake the heavens. We managed to put a couple PS3's in...\",\n",
              "  'No; The way he connected things was very Ne. Ne dominates are just as aware of their environments as Se dominates.  Example: Shawn Spencer or Patrick Jane; Both ENTPs.',\n",
              "  \"Well charlie I will be the first to admit I do get jealous like you do. I chalk it up to my 4w3 heart mixed with my dominate 7w8. 7s and 8s both like to be noticed. 4's like to be known (not the same...\",\n",
              "  \";D I'll upload the same clip with the mic away from my mouth. Than you won't hear anything.  Ninja Assassin style but with splatter.\",\n",
              "  'Tik Tok is a really great song. As long as you can mental block out the singer. I love the beat it makes me bounce.',\n",
              "  'drop.io v1swck0  :D Mic really close to my mouth and smokin aces: assassins ball playing in the background.',\n",
              "  \"Sociable =/= extrovert; I'm an extrovert and I'm not sociable. :)\",\n",
              "  \"Sherlock in the movie was an ENTP. Normally he's played as a EXTJ. In the books he's an ESTJ.  As I said. The movie looked good except for it being called sherlock holmes.\",\n",
              "  'http://i817.photobucket.com/albums/zz96/kamioo/Dirtywinch.png',\n",
              "  \"Oh, I never had fear of kissing a guy. I will kiss an animal too. So there was nothing to vanish. Just personal taste and me not liking it.  The guy I kissed didn't know me. It was one of those...\",\n",
              "  \"Sounds pretty much like my area and what I'm going through right now trying to figure out which way I want to take my life. I want to do so many things. The biggest problem is that I know if I don't...\",\n",
              "  ';D I was operating under the impression that you were female. I never looked at your boxy. Okay, I help out my gay friends all the time and one of them has developed a little crush on me. I get red...',\n",
              "  \"T_T You just described me  and I'm living the worst nightmare. I'm trapped in one place with one one around. Only dull woods. If I was a serial killer this would be the perfect place but sadly I'm...\",\n",
              "  'TBH, and biased, sounds like a shadowed INFP. I think maybe he was hurt and turned ESTJ. I can tell because he has some of the typical INFP traits left over.',\n",
              "  \"*Checks list* I'm sorry. It seems that you have came at a bad time. We've already reached our quota of INFJs. However, being you're female and I like females I will make you a deal. I will kick one...\",\n",
              "  \"I'm ANTP (Leaning toward E). I'm easy for both ENTPs and INTPs to identify with. :)\",\n",
              "  \"I also imagine ENTP's interrogations would go a little bit like Jack's from 24 except more mechanical. Rigging up shock treatment equipment in an abandoned building out of an old car batty, jumper...\",\n",
              "  \"It was a compliment :) Trust me. I'm just as psychopathic :D except I have emoticons. They're just weird ones. Like laughing when I get hurt or at people running themselves over with their lawn mower...\",\n",
              "  'http://i817.photobucket.com/albums/zz96/kamioo/Thunderstorm.pnghttp://i817.photobucket.com/albums/zz96/kamioo/Thunderstormbw.png http://i817.photobucket.com/albums/zz96/kamioo/Cosmicstorm.png',\n",
              "  \"No. It's like a theme for where I live and that is why I know it by heart.   http://www.youtube.com/watch?v=j5W73HaVQBg\",\n",
              "  \"and I usual don't leave until the thing ends. But in the mean time. In between times. You work your thing. I'll work mine :D  ;D I'm the MBP; Pleasure to meet you.\",\n",
              "  'Damn, need to trust my instincts more I would have been closer I was going to say INFP.',\n",
              "  'EXFP? Leaning toward S with the way she responded.  :D My friends, even my gay and lesbian ones, always come to me for advice.',\n",
              "  \"I bow to my entp masters ENTPs are so great. If it wasn't for ENTPs I wouldn't have been able to build what I'm building  Duck Duck  Duck  Shotgun\",\n",
              "  'What? Me? I never do that >.> <.<',\n",
              "  \"Because its hard to be sad about losing someone you like when you knew you were right and give yourself a big pat on the back because you're awesome and always correct.\",\n",
              "  \"Oh, you don't have to tell me that most of them are stupid. I know this. That is why I play with them and it makes me laugh. :D As I'm going to take Neuropsychology and I have a few psychologist...\",\n",
              "  \":D I'm a Nightowl. I wake up between 6-7pm and stay awake till 10-11:30am.\",\n",
              "  'Personal opinion backed by theory would suggest that INTPs are the most socially difficult. While INTJs can be socially indifferent but they will also use social situations if the the need arises....',\n",
              "  \"Personal stocks that I have on my desktop that I've downloaded from random stock sites and stock photobuckets.\",\n",
              "  \"I'll tell you when I open photoshop.  :) Glad you like it static.\",\n",
              "  ':D Thanks.',\n",
              "  'http://i817.photobucket.com/albums/zz96/kamioo/Deathgrip.png http://i817.photobucket.com/albums/zz96/kamioo/Deathgripbw.png  Made for a friend. Several hours of work. I constructed every line by...',\n",
              "  \":) Static: http://i817.photobucket.com/albums/zz96/kamioo/Statickitten.png  I'll have to get to your avatar later if one of my fellow teammates doesn't.\",\n",
              "  \"Psychologist don't keep me around long enough to diagnosis me. I like to toy with them. What I have diagnosis myself with and had a few psychologist friends (+ a few other friends) tell me I have is...'\"]]"
            ]
          },
          "metadata": {
            "tags": []
          },
          "execution_count": 32
        }
      ]
    },
    {
      "cell_type": "code",
      "metadata": {
        "colab": {
          "base_uri": "https://localhost:8080/",
          "height": 336
        },
        "id": "AZg7nWLAwF3o",
        "outputId": "aefa1077-7657-4170-e48c-2e66e5f3dfab"
      },
      "source": [
        "cnt_types = data['type'].value_counts()\r\n",
        "\r\n",
        "plt.figure(figsize=(12,4))\r\n",
        "sns.barplot(cnt_types.index, cnt_types.values, alpha=0.8)\r\n",
        "plt.ylabel('Number of Occurrences', fontsize=12)\r\n",
        "plt.xlabel('Types', fontsize=12)\r\n",
        "plt.show()"
      ],
      "execution_count": 33,
      "outputs": [
        {
          "output_type": "stream",
          "text": [
            "/usr/local/lib/python3.6/dist-packages/seaborn/_decorators.py:43: FutureWarning: Pass the following variables as keyword args: x, y. From version 0.12, the only valid positional argument will be `data`, and passing other arguments without an explicit keyword will result in an error or misinterpretation.\n",
            "  FutureWarning\n"
          ],
          "name": "stderr"
        },
        {
          "output_type": "display_data",
          "data": {
            "image/png": "[encoded data removed]",
            "text/plain": [
              "<Figure size 864x288 with 1 Axes>"
            ]
          },
          "metadata": {
            "tags": [],
            "needs_background": "light"
          }
        }
      ]
    },
    {
      "cell_type": "code",
      "metadata": {
        "colab": {
          "base_uri": "https://localhost:8080/",
          "height": 204
        },
        "id": "IBrysB--wFyQ",
        "outputId": "28cb1823-1514-4720-d186-d703d36805b1"
      },
      "source": [
        "def get_types(row):\r\n",
        "    t=row['type']\r\n",
        "\r\n",
        "    I = 0; N = 0\r\n",
        "    T = 0; J = 0\r\n",
        "    \r\n",
        "    if t[0] == 'I': I = 1\r\n",
        "    elif t[0] == 'E': I = 0\r\n",
        "    else: print('I-E incorrect')\r\n",
        "        \r\n",
        "    if t[1] == 'N': N = 1\r\n",
        "    elif t[1] == 'S': N = 0\r\n",
        "    else: print('N-S incorrect')\r\n",
        "        \r\n",
        "    if t[2] == 'T': T = 1\r\n",
        "    elif t[2] == 'F': T = 0\r\n",
        "    else: print('T-F incorrect')\r\n",
        "        \r\n",
        "    if t[3] == 'J': J = 1\r\n",
        "    elif t[3] == 'P': J = 0\r\n",
        "    else: print('J-P incorrect')\r\n",
        "    return pd.Series( {'IE':I, 'NS':N , 'TF': T, 'JP': J }) \r\n",
        "\r\n",
        "data = data.join(data.apply (lambda row: get_types (row),axis=1))\r\n",
        "data.head(5)"
      ],
      "execution_count": 35,
      "outputs": [
        {
          "output_type": "execute_result",
          "data": {
            "text/html": [
              "<div>\n",
              "<style scoped>\n",
              "    .dataframe tbody tr th:only-of-type {\n",
              "        vertical-align: middle;\n",
              "    }\n",
              "\n",
              "    .dataframe tbody tr th {\n",
              "        vertical-align: top;\n",
              "    }\n",
              "\n",
              "    .dataframe thead th {\n",
              "        text-align: right;\n",
              "    }\n",
              "</style>\n",
              "<table border=\"1\" class=\"dataframe\">\n",
              "  <thead>\n",
              "    <tr style=\"text-align: right;\">\n",
              "      <th></th>\n",
              "      <th>type</th>\n",
              "      <th>posts</th>\n",
              "      <th>IE</th>\n",
              "      <th>NS</th>\n",
              "      <th>TF</th>\n",
              "      <th>JP</th>\n",
              "    </tr>\n",
              "  </thead>\n",
              "  <tbody>\n",
              "    <tr>\n",
              "      <th>0</th>\n",
              "      <td>INFJ</td>\n",
              "      <td>'http://www.youtube.com/watch?v=qsXHcwe3krw|||...</td>\n",
              "      <td>1</td>\n",
              "      <td>1</td>\n",
              "      <td>0</td>\n",
              "      <td>1</td>\n",
              "    </tr>\n",
              "    <tr>\n",
              "      <th>1</th>\n",
              "      <td>ENTP</td>\n",
              "      <td>'I'm finding the lack of me in these posts ver...</td>\n",
              "      <td>0</td>\n",
              "      <td>1</td>\n",
              "      <td>1</td>\n",
              "      <td>0</td>\n",
              "    </tr>\n",
              "    <tr>\n",
              "      <th>2</th>\n",
              "      <td>INTP</td>\n",
              "      <td>'Good one  _____   https://www.youtube.com/wat...</td>\n",
              "      <td>1</td>\n",
              "      <td>1</td>\n",
              "      <td>1</td>\n",
              "      <td>0</td>\n",
              "    </tr>\n",
              "    <tr>\n",
              "      <th>3</th>\n",
              "      <td>INTJ</td>\n",
              "      <td>'Dear INTP,   I enjoyed our conversation the o...</td>\n",
              "      <td>1</td>\n",
              "      <td>1</td>\n",
              "      <td>1</td>\n",
              "      <td>1</td>\n",
              "    </tr>\n",
              "    <tr>\n",
              "      <th>4</th>\n",
              "      <td>ENTJ</td>\n",
              "      <td>'You're fired.|||That's another silly misconce...</td>\n",
              "      <td>0</td>\n",
              "      <td>1</td>\n",
              "      <td>1</td>\n",
              "      <td>1</td>\n",
              "    </tr>\n",
              "  </tbody>\n",
              "</table>\n",
              "</div>"
            ],
            "text/plain": [
              "   type                                              posts  IE  NS  TF  JP\n",
              "0  INFJ  'http://www.youtube.com/watch?v=qsXHcwe3krw|||...   1   1   0   1\n",
              "1  ENTP  'I'm finding the lack of me in these posts ver...   0   1   1   0\n",
              "2  INTP  'Good one  _____   https://www.youtube.com/wat...   1   1   1   0\n",
              "3  INTJ  'Dear INTP,   I enjoyed our conversation the o...   1   1   1   1\n",
              "4  ENTJ  'You're fired.|||That's another silly misconce...   0   1   1   1"
            ]
          },
          "metadata": {
            "tags": []
          },
          "execution_count": 35
        }
      ]
    },
    {
      "cell_type": "code",
      "metadata": {
        "colab": {
          "base_uri": "https://localhost:8080/"
        },
        "id": "hivGBXblwFv4",
        "outputId": "d21ad688-7357-4a13-aee3-7399847f2ed2"
      },
      "source": [
        "print (\"Introversion (I) /  Extroversion (E):\\t\", data['IE'].value_counts()[0], \" / \", data['IE'].value_counts()[1])\r\n",
        "print (\"Intuition (N) – Sensing (S):\\t\\t\", data['NS'].value_counts()[0], \" / \", data['NS'].value_counts()[1])\r\n",
        "print (\"Thinking (T) – Feeling (F):\\t\\t\", data['TF'].value_counts()[0], \" / \", data['TF'].value_counts()[1])\r\n",
        "print (\"Judging (J) – Perceiving (P):\\t\\t\", data['JP'].value_counts()[0], \" / \", data['JP'].value_counts()[1])"
      ],
      "execution_count": 36,
      "outputs": [
        {
          "output_type": "stream",
          "text": [
            "Introversion (I) /  Extroversion (E):\t 1999  /  6676\n",
            "Intuition (N) – Sensing (S):\t\t 1197  /  7478\n",
            "Thinking (T) – Feeling (F):\t\t 4694  /  3981\n",
            "Judging (J) – Perceiving (P):\t\t 5241  /  3434\n"
          ],
          "name": "stdout"
        }
      ]
    },
    {
      "cell_type": "code",
      "metadata": {
        "colab": {
          "base_uri": "https://localhost:8080/",
          "height": 281
        },
        "id": "vXPHv8PGwFtQ",
        "outputId": "31ce2a57-5996-4911-90c8-1909abd90b94"
      },
      "source": [
        "N = 4\r\n",
        "but = (data['IE'].value_counts()[0], data['NS'].value_counts()[0], data['TF'].value_counts()[0], data['JP'].value_counts()[0])\r\n",
        "top = (data['IE'].value_counts()[1], data['NS'].value_counts()[1], data['TF'].value_counts()[1], data['JP'].value_counts()[1])\r\n",
        "\r\n",
        "ind = np.arange(N)    # the x locations for the groups\r\n",
        "width = 0.7      # the width of the bars: can also be len(x) sequence\r\n",
        "\r\n",
        "p1 = plt.bar(ind, but, width)\r\n",
        "p2 = plt.bar(ind, top, width, bottom=but)\r\n",
        "\r\n",
        "plt.ylabel('Count')\r\n",
        "plt.title('Distribution accoss types indicators')\r\n",
        "plt.xticks(ind, ('I/E',  'N/S', 'T/F', 'J/P',))\r\n",
        "\r\n",
        "plt.show()"
      ],
      "execution_count": 37,
      "outputs": [
        {
          "output_type": "display_data",
          "data": {
            "image/png": "[encoded data removed]",
            "text/plain": [
              "<Figure size 432x288 with 1 Axes>"
            ]
          },
          "metadata": {
            "tags": [],
            "needs_background": "light"
          }
        }
      ]
    },
    {
      "cell_type": "code",
      "metadata": {
        "colab": {
          "base_uri": "https://localhost:8080/",
          "height": 173
        },
        "id": "HfUw9D0HwFqR",
        "outputId": "bff5bbb6-a799-43b0-9738-e8a21285b179"
      },
      "source": [
        "data[['IE','NS','TF','JP']].corr()"
      ],
      "execution_count": 38,
      "outputs": [
        {
          "output_type": "execute_result",
          "data": {
            "text/html": [
              "<div>\n",
              "<style scoped>\n",
              "    .dataframe tbody tr th:only-of-type {\n",
              "        vertical-align: middle;\n",
              "    }\n",
              "\n",
              "    .dataframe tbody tr th {\n",
              "        vertical-align: top;\n",
              "    }\n",
              "\n",
              "    .dataframe thead th {\n",
              "        text-align: right;\n",
              "    }\n",
              "</style>\n",
              "<table border=\"1\" class=\"dataframe\">\n",
              "  <thead>\n",
              "    <tr style=\"text-align: right;\">\n",
              "      <th></th>\n",
              "      <th>IE</th>\n",
              "      <th>NS</th>\n",
              "      <th>TF</th>\n",
              "      <th>JP</th>\n",
              "    </tr>\n",
              "  </thead>\n",
              "  <tbody>\n",
              "    <tr>\n",
              "      <th>IE</th>\n",
              "      <td>1.000000</td>\n",
              "      <td>-0.045899</td>\n",
              "      <td>-0.069573</td>\n",
              "      <td>0.161939</td>\n",
              "    </tr>\n",
              "    <tr>\n",
              "      <th>NS</th>\n",
              "      <td>-0.045899</td>\n",
              "      <td>1.000000</td>\n",
              "      <td>-0.080954</td>\n",
              "      <td>0.014922</td>\n",
              "    </tr>\n",
              "    <tr>\n",
              "      <th>TF</th>\n",
              "      <td>-0.069573</td>\n",
              "      <td>-0.080954</td>\n",
              "      <td>1.000000</td>\n",
              "      <td>-0.004673</td>\n",
              "    </tr>\n",
              "    <tr>\n",
              "      <th>JP</th>\n",
              "      <td>0.161939</td>\n",
              "      <td>0.014922</td>\n",
              "      <td>-0.004673</td>\n",
              "      <td>1.000000</td>\n",
              "    </tr>\n",
              "  </tbody>\n",
              "</table>\n",
              "</div>"
            ],
            "text/plain": [
              "          IE        NS        TF        JP\n",
              "IE  1.000000 -0.045899 -0.069573  0.161939\n",
              "NS -0.045899  1.000000 -0.080954  0.014922\n",
              "TF -0.069573 -0.080954  1.000000 -0.004673\n",
              "JP  0.161939  0.014922 -0.004673  1.000000"
            ]
          },
          "metadata": {
            "tags": []
          },
          "execution_count": 38
        }
      ]
    },
    {
      "cell_type": "code",
      "metadata": {
        "colab": {
          "base_uri": "https://localhost:8080/",
          "height": 626
        },
        "id": "Fuy4bL6FwFmq",
        "outputId": "c9f542b5-aa3f-49c2-9db3-a69159485077"
      },
      "source": [
        "cmap = plt.cm.RdBu\r\n",
        "corr = data[['IE','NS','TF','JP']].corr()\r\n",
        "plt.figure(figsize=(12,10))\r\n",
        "plt.title('Pearson Features Correlation', size=15)\r\n",
        "sns.heatmap(corr, cmap=cmap,  annot=True, linewidths=1)"
      ],
      "execution_count": 39,
      "outputs": [
        {
          "output_type": "execute_result",
          "data": {
            "text/plain": [
              "<matplotlib.axes._subplots.AxesSubplot at 0x7f00ad2beeb8>"
            ]
          },
          "metadata": {
            "tags": []
          },
          "execution_count": 39
        },
        {
          "output_type": "display_data",
          "data": {
            "image/png": "[encoded data removed]",
            "text/plain": [
              "<Figure size 864x720 with 2 Axes>"
            ]
          },
          "metadata": {
            "tags": [],
            "needs_background": "light"
          }
        }
      ]
    },
    {
      "cell_type": "code",
      "metadata": {
        "colab": {
          "base_uri": "https://localhost:8080/"
        },
        "id": "5jooPdaewFe4",
        "outputId": "6cd81bbe-c2fc-4dd9-fe49-cbd6ac129e83"
      },
      "source": [
        "b_Pers = {'I':0, 'E':1, 'N':0, 'S':1, 'F':0, 'T':1, 'J':0, 'P':1}\r\n",
        "b_Pers_list = [{0:'I', 1:'E'}, {0:'N', 1:'S'}, {0:'F', 1:'T'}, {0:'J', 1:'P'}]\r\n",
        "\r\n",
        "def translate_personality(personality):\r\n",
        "    # transform mbti to binary vector\r\n",
        "    \r\n",
        "    return [b_Pers[l] for l in personality]\r\n",
        "\r\n",
        "def translate_back(personality):\r\n",
        "    # transform binary vector to mbti personality\r\n",
        "    \r\n",
        "    s = \"\"\r\n",
        "    for i, l in enumerate(personality):\r\n",
        "        s += b_Pers_list[i][l]\r\n",
        "    return s\r\n",
        "\r\n",
        "# Check ...\r\n",
        "d = data.head(4)\r\n",
        "list_personality_bin = np.array([translate_personality(p) for p in d.type])\r\n",
        "print(\"Binarize MBTI list: \\n%s\" % list_personality_bin)"
      ],
      "execution_count": 40,
      "outputs": [
        {
          "output_type": "stream",
          "text": [
            "Binarize MBTI list: \n",
            "[[0 0 0 0]\n",
            " [1 0 1 1]\n",
            " [0 0 1 1]\n",
            " [0 0 1 0]]\n"
          ],
          "name": "stdout"
        }
      ]
    },
    {
      "cell_type": "code",
      "metadata": {
        "colab": {
          "base_uri": "https://localhost:8080/"
        },
        "id": "v9n6m28sytah",
        "outputId": "0d22f07f-be28-4034-f8c4-94835591e5f9"
      },
      "source": [
        "import nltk\r\n",
        "nltk.download('stopwords')"
      ],
      "execution_count": 42,
      "outputs": [
        {
          "output_type": "stream",
          "text": [
            "[nltk_data] Downloading package stopwords to /root/nltk_data...\n",
            "[nltk_data]   Unzipping corpora/stopwords.zip.\n"
          ],
          "name": "stdout"
        },
        {
          "output_type": "execute_result",
          "data": {
            "text/plain": [
              "True"
            ]
          },
          "metadata": {
            "tags": []
          },
          "execution_count": 42
        }
      ]
    },
    {
      "cell_type": "code",
      "metadata": {
        "id": "ufbjcfptyjzq"
      },
      "source": [
        "##### Compute list of subject with Type | list of comments \r\n",
        "from nltk.stem import PorterStemmer, WordNetLemmatizer\r\n",
        "from nltk.corpus import stopwords \r\n",
        "from nltk import word_tokenize\r\n",
        "\r\n",
        "# We want to remove these from the psosts\r\n",
        "unique_type_list = ['INFJ', 'ENTP', 'INTP', 'INTJ', 'ENTJ', 'ENFJ', 'INFP', 'ENFP',\r\n",
        "       'ISFP', 'ISTP', 'ISFJ', 'ISTJ', 'ESTP', 'ESFP', 'ESTJ', 'ESFJ']\r\n",
        "  \r\n",
        "unique_type_list = [x.lower() for x in unique_type_list]\r\n",
        "\r\n",
        "\r\n",
        "# Lemmatize\r\n",
        "stemmer = PorterStemmer()\r\n",
        "lemmatiser = WordNetLemmatizer()\r\n",
        "\r\n",
        "# Cache the stop words for speed \r\n",
        "cachedStopWords = stopwords.words(\"english\")\r\n",
        "\r\n",
        "def pre_process_data(data, remove_stop_words=True, remove_mbti_profiles=True):\r\n",
        "\r\n",
        "    list_personality = []\r\n",
        "    list_posts = []\r\n",
        "    len_data = len(data)\r\n",
        "    i=0\r\n",
        "    \r\n",
        "    for row in data.iterrows():\r\n",
        "        i+=1\r\n",
        "        if (i % 500 == 0 or i == 1 or i == len_data):\r\n",
        "            print(\"%s of %s rows\" % (i, len_data))\r\n",
        "\r\n",
        "        ##### Remove and clean comments\r\n",
        "        posts = row[1].posts\r\n",
        "        temp = re.sub('http[s]?://(?:[a-zA-Z]|[0-9]|[$-_@.&+]|(?:%[0-9a-fA-F][0-9a-fA-F]))+', ' ', posts)\r\n",
        "        temp = re.sub(\"[^a-zA-Z]\", \" \", temp)\r\n",
        "        temp = re.sub(' +', ' ', temp).lower()\r\n",
        "        if remove_stop_words:\r\n",
        "            temp = \" \".join([lemmatiser.lemmatize(w) for w in temp.split(' ') if w not in cachedStopWords])\r\n",
        "        else:\r\n",
        "            temp = \" \".join([lemmatiser.lemmatize(w) for w in temp.split(' ')])\r\n",
        "            \r\n",
        "        if remove_mbti_profiles:\r\n",
        "            for t in unique_type_list:\r\n",
        "                temp = temp.replace(t,\"\")\r\n",
        "\r\n",
        "        type_labelized = translate_personality(row[1].type)\r\n",
        "        list_personality.append(type_labelized)\r\n",
        "        list_posts.append(temp)\r\n",
        "\r\n",
        "    list_posts = np.array(list_posts)\r\n",
        "    list_personality = np.array(list_personality)\r\n",
        "    return list_posts, list_personality"
      ],
      "execution_count": 43,
      "outputs": []
    },
    {
      "cell_type": "code",
      "metadata": {
        "colab": {
          "base_uri": "https://localhost:8080/"
        },
        "id": "4L_qt1Mly78Y",
        "outputId": "f420e992-8bc1-4c15-ff52-90b012c484ef"
      },
      "source": [
        "import nltk\r\n",
        "nltk.download('wordnet')"
      ],
      "execution_count": 45,
      "outputs": [
        {
          "output_type": "stream",
          "text": [
            "[nltk_data] Downloading package wordnet to /root/nltk_data...\n",
            "[nltk_data]   Unzipping corpora/wordnet.zip.\n"
          ],
          "name": "stdout"
        },
        {
          "output_type": "execute_result",
          "data": {
            "text/plain": [
              "True"
            ]
          },
          "metadata": {
            "tags": []
          },
          "execution_count": 45
        }
      ]
    },
    {
      "cell_type": "code",
      "metadata": {
        "colab": {
          "base_uri": "https://localhost:8080/"
        },
        "id": "189GWOm1yjuv",
        "outputId": "11325dd1-dc0f-4827-889b-fe8f909255ce"
      },
      "source": [
        "list_posts, list_personality  = pre_process_data(data, remove_stop_words=True)"
      ],
      "execution_count": 46,
      "outputs": [
        {
          "output_type": "stream",
          "text": [
            "1 of 8675 rows\n",
            "500 of 8675 rows\n",
            "1000 of 8675 rows\n",
            "1500 of 8675 rows\n",
            "2000 of 8675 rows\n",
            "2500 of 8675 rows\n",
            "3000 of 8675 rows\n",
            "3500 of 8675 rows\n",
            "4000 of 8675 rows\n",
            "4500 of 8675 rows\n",
            "5000 of 8675 rows\n",
            "5500 of 8675 rows\n",
            "6000 of 8675 rows\n",
            "6500 of 8675 rows\n",
            "7000 of 8675 rows\n",
            "7500 of 8675 rows\n",
            "8000 of 8675 rows\n",
            "8500 of 8675 rows\n",
            "8675 of 8675 rows\n"
          ],
          "name": "stdout"
        }
      ]
    },
    {
      "cell_type": "code",
      "metadata": {
        "colab": {
          "base_uri": "https://localhost:8080/"
        },
        "id": "aYkryiYkyjr5",
        "outputId": "9add1e5a-5917-46c7-fbcb-3c8825ada0c1"
      },
      "source": [
        "print(\"Num posts and personalities: \",  list_posts.shape, list_personality.shape)"
      ],
      "execution_count": 47,
      "outputs": [
        {
          "output_type": "stream",
          "text": [
            "Num posts and personalities:  (8675,) (8675, 4)\n"
          ],
          "name": "stdout"
        }
      ]
    },
    {
      "cell_type": "code",
      "metadata": {
        "colab": {
          "base_uri": "https://localhost:8080/",
          "height": 120
        },
        "id": "7Tq4ji-fyjoX",
        "outputId": "bff9ac67-9d77-4000-dc47-522263b49881"
      },
      "source": [
        "list_posts[0]"
      ],
      "execution_count": 48,
      "outputs": [
        {
          "output_type": "execute_result",
          "data": {
            "application/vnd.google.colaboratory.intrinsic+json": {
              "type": "string"
            },
            "text/plain": [
              "'   moment sportscenter top ten play prank life changing experience life repeat today may perc experience immerse last thing  friend posted facebook committing suicide next day rest peace hello  sorry hear distress natural relationship perfection time every moment existence try figure hard time time growth welcome stuff game set match prozac wellbrutin least thirty minute moving leg mean moving sitting desk chair weed moderation maybe try edible healthier alternative basically come three item determined type whichever type want would likely use given type cognitive function whatnot left thing moderation sims indeed video game good one note good one somewhat subjective completely promoting death given sim dear  favorite video game growing current favorite video game cool appears late sad someone everyone wait thought confidence good thing cherish time solitude b c revel within inner world whereas time workin enjoy time worry people always around yo  lady complimentary personality well hey main social outlet xbox live conversation even verbally fatigue quickly really dig part banned thread requires get high backyard roast eat marshmellows backyard conversing something intellectual followed massage kiss banned many b sentence could think b banned watching movie corner dunce banned health class clearly taught nothing peer pressure banned whole host reason two baby deer left right munching beetle middle using blood two caveman diary today latest happening designated cave diary wall see pokemon world  society everyone becomes optimist artist artist draw idea count forming something like signature welcome robot rank person downed self esteem cuz avid signature artist like proud banned taking room bed ya gotta learn share roach banned much thundering grumbling kind storm yep ahh old high school music heard age failed public speaking class year ago sort learned could better position big part failure overloading like person mentality confirmed  way move denver area start new life '"
            ]
          },
          "metadata": {
            "tags": []
          },
          "execution_count": 48
        }
      ]
    },
    {
      "cell_type": "code",
      "metadata": {
        "colab": {
          "base_uri": "https://localhost:8080/"
        },
        "id": "yqMtyCaryjhI",
        "outputId": "049f558e-39a7-41cb-9ddf-15a935964c04"
      },
      "source": [
        "list_personality[0]"
      ],
      "execution_count": 49,
      "outputs": [
        {
          "output_type": "execute_result",
          "data": {
            "text/plain": [
              "array([0, 0, 0, 0])"
            ]
          },
          "metadata": {
            "tags": []
          },
          "execution_count": 49
        }
      ]
    },
    {
      "cell_type": "code",
      "metadata": {
        "colab": {
          "base_uri": "https://localhost:8080/"
        },
        "id": "svINpfZ_yjUp",
        "outputId": "bbb02579-4d60-476f-8c2b-78148567104b"
      },
      "source": [
        "from sklearn.feature_extraction.text import CountVectorizer\r\n",
        "from sklearn.manifold import TSNE\r\n",
        "\r\n",
        "# Posts to a matrix of token counts\r\n",
        "cntizer = CountVectorizer(analyzer=\"word\", \r\n",
        "                             max_features=1500, \r\n",
        "                             tokenizer=None,    \r\n",
        "                             preprocessor=None, \r\n",
        "                             stop_words=None,  \r\n",
        "                             max_df=0.7,\r\n",
        "                             min_df=0.1) \r\n",
        "\r\n",
        "# Learn the vocabulary dictionary and return term-document matrix\r\n",
        "print(\"CountVectorizer...\")\r\n",
        "X_cnt = cntizer.fit_transform(list_posts)\r\n",
        "\r\n",
        "# Transform the count matrix to a normalized tf or tf-idf representation\r\n",
        "tfizer = TfidfTransformer()\r\n",
        "\r\n",
        "print(\"Tf-idf...\")\r\n",
        "# Learn the idf vector (fit) and transform a count matrix to a tf-idf representation\r\n",
        "X_tfidf =  tfizer.fit_transform(X_cnt).toarray()"
      ],
      "execution_count": 50,
      "outputs": [
        {
          "output_type": "stream",
          "text": [
            "CountVectorizer...\n",
            "Tf-idf...\n"
          ],
          "name": "stdout"
        }
      ]
    },
    {
      "cell_type": "code",
      "metadata": {
        "colab": {
          "base_uri": "https://localhost:8080/"
        },
        "id": "SdfpPZ3vzinJ",
        "outputId": "8ad1ed40-89a9-4fc2-9b0a-46a10a7b6f21"
      },
      "source": [
        "feature_names = list(enumerate(cntizer.get_feature_names()))\r\n",
        "feature_names"
      ],
      "execution_count": 51,
      "outputs": [
        {
          "output_type": "execute_result",
          "data": {
            "text/plain": [
              "[(0, 'ability'),\n",
              " (1, 'able'),\n",
              " (2, 'absolutely'),\n",
              " (3, 'accept'),\n",
              " (4, 'accurate'),\n",
              " (5, 'across'),\n",
              " (6, 'act'),\n",
              " (7, 'action'),\n",
              " (8, 'actual'),\n",
              " (9, 'actually'),\n",
              " (10, 'add'),\n",
              " (11, 'admit'),\n",
              " (12, 'advice'),\n",
              " (13, 'afraid'),\n",
              " (14, 'age'),\n",
              " (15, 'ago'),\n",
              " (16, 'agree'),\n",
              " (17, 'ah'),\n",
              " (18, 'almost'),\n",
              " (19, 'alone'),\n",
              " (20, 'along'),\n",
              " (21, 'already'),\n",
              " (22, 'although'),\n",
              " (23, 'amazing'),\n",
              " (24, 'amount'),\n",
              " (25, 'angry'),\n",
              " (26, 'animal'),\n",
              " (27, 'annoying'),\n",
              " (28, 'another'),\n",
              " (29, 'answer'),\n",
              " (30, 'anxiety'),\n",
              " (31, 'anymore'),\n",
              " (32, 'anyone'),\n",
              " (33, 'anything'),\n",
              " (34, 'anyway'),\n",
              " (35, 'apparently'),\n",
              " (36, 'appreciate'),\n",
              " (37, 'approach'),\n",
              " (38, 'area'),\n",
              " (39, 'argument'),\n",
              " (40, 'around'),\n",
              " (41, 'art'),\n",
              " (42, 'ask'),\n",
              " (43, 'asked'),\n",
              " (44, 'asking'),\n",
              " (45, 'aspect'),\n",
              " (46, 'assume'),\n",
              " (47, 'attention'),\n",
              " (48, 'attracted'),\n",
              " (49, 'avatar'),\n",
              " (50, 'avoid'),\n",
              " (51, 'aware'),\n",
              " (52, 'away'),\n",
              " (53, 'awesome'),\n",
              " (54, 'awkward'),\n",
              " (55, 'baby'),\n",
              " (56, 'back'),\n",
              " (57, 'bad'),\n",
              " (58, 'based'),\n",
              " (59, 'basically'),\n",
              " (60, 'beautiful'),\n",
              " (61, 'become'),\n",
              " (62, 'bed'),\n",
              " (63, 'behavior'),\n",
              " (64, 'behind'),\n",
              " (65, 'belief'),\n",
              " (66, 'believe'),\n",
              " (67, 'best'),\n",
              " (68, 'better'),\n",
              " (69, 'big'),\n",
              " (70, 'bit'),\n",
              " (71, 'black'),\n",
              " (72, 'blue'),\n",
              " (73, 'body'),\n",
              " (74, 'book'),\n",
              " (75, 'bored'),\n",
              " (76, 'boring'),\n",
              " (77, 'born'),\n",
              " (78, 'bother'),\n",
              " (79, 'boy'),\n",
              " (80, 'boyfriend'),\n",
              " (81, 'brain'),\n",
              " (82, 'break'),\n",
              " (83, 'bring'),\n",
              " (84, 'brother'),\n",
              " (85, 'buy'),\n",
              " (86, 'call'),\n",
              " (87, 'called'),\n",
              " (88, 'came'),\n",
              " (89, 'cannot'),\n",
              " (90, 'car'),\n",
              " (91, 'care'),\n",
              " (92, 'career'),\n",
              " (93, 'case'),\n",
              " (94, 'cat'),\n",
              " (95, 'cause'),\n",
              " (96, 'certain'),\n",
              " (97, 'certainly'),\n",
              " (98, 'chance'),\n",
              " (99, 'change'),\n",
              " (100, 'changed'),\n",
              " (101, 'character'),\n",
              " (102, 'check'),\n",
              " (103, 'child'),\n",
              " (104, 'choice'),\n",
              " (105, 'choose'),\n",
              " (106, 'class'),\n",
              " (107, 'clear'),\n",
              " (108, 'clearly'),\n",
              " (109, 'close'),\n",
              " (110, 'cognitive'),\n",
              " (111, 'cold'),\n",
              " (112, 'college'),\n",
              " (113, 'color'),\n",
              " (114, 'come'),\n",
              " (115, 'comfortable'),\n",
              " (116, 'coming'),\n",
              " (117, 'comment'),\n",
              " (118, 'common'),\n",
              " (119, 'company'),\n",
              " (120, 'complete'),\n",
              " (121, 'completely'),\n",
              " (122, 'computer'),\n",
              " (123, 'concept'),\n",
              " (124, 'confused'),\n",
              " (125, 'connection'),\n",
              " (126, 'consider'),\n",
              " (127, 'considered'),\n",
              " (128, 'considering'),\n",
              " (129, 'constantly'),\n",
              " (130, 'contact'),\n",
              " (131, 'control'),\n",
              " (132, 'conversation'),\n",
              " (133, 'cool'),\n",
              " (134, 'correct'),\n",
              " (135, 'count'),\n",
              " (136, 'country'),\n",
              " (137, 'couple'),\n",
              " (138, 'course'),\n",
              " (139, 'crazy'),\n",
              " (140, 'create'),\n",
              " (141, 'creative'),\n",
              " (142, 'cry'),\n",
              " (143, 'curious'),\n",
              " (144, 'current'),\n",
              " (145, 'currently'),\n",
              " (146, 'cut'),\n",
              " (147, 'cute'),\n",
              " (148, 'dad'),\n",
              " (149, 'damn'),\n",
              " (150, 'dark'),\n",
              " (151, 'date'),\n",
              " (152, 'dating'),\n",
              " (153, 'day'),\n",
              " (154, 'dead'),\n",
              " (155, 'deal'),\n",
              " (156, 'dear'),\n",
              " (157, 'death'),\n",
              " (158, 'debate'),\n",
              " (159, 'decide'),\n",
              " (160, 'decided'),\n",
              " (161, 'decision'),\n",
              " (162, 'deep'),\n",
              " (163, 'definitely'),\n",
              " (164, 'degree'),\n",
              " (165, 'depends'),\n",
              " (166, 'depressed'),\n",
              " (167, 'depression'),\n",
              " (168, 'describe'),\n",
              " (169, 'description'),\n",
              " (170, 'desire'),\n",
              " (171, 'detail'),\n",
              " (172, 'die'),\n",
              " (173, 'difference'),\n",
              " (174, 'different'),\n",
              " (175, 'difficult'),\n",
              " (176, 'discussion'),\n",
              " (177, 'dislike'),\n",
              " (178, 'dog'),\n",
              " (179, 'dominant'),\n",
              " (180, 'done'),\n",
              " (181, 'dont'),\n",
              " (182, 'doubt'),\n",
              " (183, 'dream'),\n",
              " (184, 'drink'),\n",
              " (185, 'drive'),\n",
              " (186, 'due'),\n",
              " (187, 'early'),\n",
              " (188, 'easier'),\n",
              " (189, 'easily'),\n",
              " (190, 'easy'),\n",
              " (191, 'eat'),\n",
              " (192, 'edit'),\n",
              " (193, 'effect'),\n",
              " (194, 'effort'),\n",
              " (195, 'either'),\n",
              " (196, 'else'),\n",
              " (197, 'emotion'),\n",
              " (198, 'emotional'),\n",
              " (199, 'emotionally'),\n",
              " (200, 'end'),\n",
              " (201, 'ended'),\n",
              " (202, 'energy'),\n",
              " (203, 'english'),\n",
              " (204, 'enjoy'),\n",
              " (205, 'enneagram'),\n",
              " (206, 'enough'),\n",
              " (207, 'entire'),\n",
              " (208, 'environment'),\n",
              " (209, 'especially'),\n",
              " (210, 'etc'),\n",
              " (211, 'ever'),\n",
              " (212, 'every'),\n",
              " (213, 'everyone'),\n",
              " (214, 'everything'),\n",
              " (215, 'evil'),\n",
              " (216, 'ex'),\n",
              " (217, 'exact'),\n",
              " (218, 'exactly'),\n",
              " (219, 'example'),\n",
              " (220, 'except'),\n",
              " (221, 'exist'),\n",
              " (222, 'expect'),\n",
              " (223, 'experience'),\n",
              " (224, 'explain'),\n",
              " (225, 'express'),\n",
              " (226, 'extremely'),\n",
              " (227, 'extrovert'),\n",
              " (228, 'extroverted'),\n",
              " (229, 'eye'),\n",
              " (230, 'face'),\n",
              " (231, 'fact'),\n",
              " (232, 'fair'),\n",
              " (233, 'fairly'),\n",
              " (234, 'fall'),\n",
              " (235, 'family'),\n",
              " (236, 'fan'),\n",
              " (237, 'far'),\n",
              " (238, 'fast'),\n",
              " (239, 'father'),\n",
              " (240, 'favorite'),\n",
              " (241, 'fe'),\n",
              " (242, 'fear'),\n",
              " (243, 'feeling'),\n",
              " (244, 'fellow'),\n",
              " (245, 'felt'),\n",
              " (246, 'female'),\n",
              " (247, 'fi'),\n",
              " (248, 'fight'),\n",
              " (249, 'figure'),\n",
              " (250, 'finally'),\n",
              " (251, 'finding'),\n",
              " (252, 'fine'),\n",
              " (253, 'fit'),\n",
              " (254, 'focus'),\n",
              " (255, 'follow'),\n",
              " (256, 'food'),\n",
              " (257, 'forget'),\n",
              " (258, 'form'),\n",
              " (259, 'forum'),\n",
              " (260, 'found'),\n",
              " (261, 'four'),\n",
              " (262, 'free'),\n",
              " (263, 'friendship'),\n",
              " (264, 'front'),\n",
              " (265, 'fuck'),\n",
              " (266, 'full'),\n",
              " (267, 'fun'),\n",
              " (268, 'function'),\n",
              " (269, 'funny'),\n",
              " (270, 'future'),\n",
              " (271, 'game'),\n",
              " (272, 'gave'),\n",
              " (273, 'general'),\n",
              " (274, 'generally'),\n",
              " (275, 'getting'),\n",
              " (276, 'girl'),\n",
              " (277, 'give'),\n",
              " (278, 'given'),\n",
              " (279, 'giving'),\n",
              " (280, 'glad'),\n",
              " (281, 'goal'),\n",
              " (282, 'god'),\n",
              " (283, 'gone'),\n",
              " (284, 'gonna'),\n",
              " (285, 'got'),\n",
              " (286, 'gotten'),\n",
              " (287, 'grade'),\n",
              " (288, 'great'),\n",
              " (289, 'group'),\n",
              " (290, 'guess'),\n",
              " (291, 'guy'),\n",
              " (292, 'haha'),\n",
              " (293, 'hair'),\n",
              " (294, 'half'),\n",
              " (295, 'hand'),\n",
              " (296, 'hang'),\n",
              " (297, 'happen'),\n",
              " (298, 'happened'),\n",
              " (299, 'happens'),\n",
              " (300, 'happy'),\n",
              " (301, 'hard'),\n",
              " (302, 'hate'),\n",
              " (303, 'head'),\n",
              " (304, 'healthy'),\n",
              " (305, 'hear'),\n",
              " (306, 'heard'),\n",
              " (307, 'heart'),\n",
              " (308, 'hell'),\n",
              " (309, 'hello'),\n",
              " (310, 'help'),\n",
              " (311, 'helped'),\n",
              " (312, 'helpful'),\n",
              " (313, 'hey'),\n",
              " (314, 'hi'),\n",
              " (315, 'high'),\n",
              " (316, 'highly'),\n",
              " (317, 'history'),\n",
              " (318, 'hit'),\n",
              " (319, 'hmm'),\n",
              " (320, 'hold'),\n",
              " (321, 'home'),\n",
              " (322, 'honest'),\n",
              " (323, 'honestly'),\n",
              " (324, 'hope'),\n",
              " (325, 'hot'),\n",
              " (326, 'hour'),\n",
              " (327, 'house'),\n",
              " (328, 'however'),\n",
              " (329, 'hug'),\n",
              " (330, 'huge'),\n",
              " (331, 'human'),\n",
              " (332, 'humor'),\n",
              " (333, 'hurt'),\n",
              " (334, 'idea'),\n",
              " (335, 'ideal'),\n",
              " (336, 'im'),\n",
              " (337, 'image'),\n",
              " (338, 'imagine'),\n",
              " (339, 'important'),\n",
              " (340, 'individual'),\n",
              " (341, 'information'),\n",
              " (342, 'inside'),\n",
              " (343, 'instead'),\n",
              " (344, 'intelligence'),\n",
              " (345, 'intelligent'),\n",
              " (346, 'interaction'),\n",
              " (347, 'interest'),\n",
              " (348, 'interested'),\n",
              " (349, 'interesting'),\n",
              " (350, 'internet'),\n",
              " (351, 'introvert'),\n",
              " (352, 'introverted'),\n",
              " (353, 'intuition'),\n",
              " (354, 'intuitive'),\n",
              " (355, 'involved'),\n",
              " (356, 'issue'),\n",
              " (357, 'job'),\n",
              " (358, 'joke'),\n",
              " (359, 'keep'),\n",
              " (360, 'kid'),\n",
              " (361, 'kill'),\n",
              " (362, 'kind'),\n",
              " (363, 'kinda'),\n",
              " (364, 'knew'),\n",
              " (365, 'knowing'),\n",
              " (366, 'knowledge'),\n",
              " (367, 'known'),\n",
              " (368, 'lack'),\n",
              " (369, 'language'),\n",
              " (370, 'large'),\n",
              " (371, 'last'),\n",
              " (372, 'late'),\n",
              " (373, 'lately'),\n",
              " (374, 'later'),\n",
              " (375, 'laugh'),\n",
              " (376, 'laughing'),\n",
              " (377, 'lazy'),\n",
              " (378, 'le'),\n",
              " (379, 'lead'),\n",
              " (380, 'learn'),\n",
              " (381, 'learned'),\n",
              " (382, 'learning'),\n",
              " (383, 'least'),\n",
              " (384, 'leave'),\n",
              " (385, 'left'),\n",
              " (386, 'let'),\n",
              " (387, 'level'),\n",
              " (388, 'lie'),\n",
              " (389, 'light'),\n",
              " (390, 'liked'),\n",
              " (391, 'likely'),\n",
              " (392, 'line'),\n",
              " (393, 'link'),\n",
              " (394, 'list'),\n",
              " (395, 'listen'),\n",
              " (396, 'listening'),\n",
              " (397, 'literally'),\n",
              " (398, 'little'),\n",
              " (399, 'live'),\n",
              " (400, 'living'),\n",
              " (401, 'logic'),\n",
              " (402, 'logical'),\n",
              " (403, 'lol'),\n",
              " (404, 'long'),\n",
              " (405, 'longer'),\n",
              " (406, 'look'),\n",
              " (407, 'looked'),\n",
              " (408, 'looking'),\n",
              " (409, 'lose'),\n",
              " (410, 'lost'),\n",
              " (411, 'loud'),\n",
              " (412, 'loved'),\n",
              " (413, 'low'),\n",
              " (414, 'made'),\n",
              " (415, 'main'),\n",
              " (416, 'major'),\n",
              " (417, 'making'),\n",
              " (418, 'male'),\n",
              " (419, 'man'),\n",
              " (420, 'many'),\n",
              " (421, 'math'),\n",
              " (422, 'matter'),\n",
              " (423, 'may'),\n",
              " (424, 'maybe'),\n",
              " (425, 'mbti'),\n",
              " (426, 'mean'),\n",
              " (427, 'meaning'),\n",
              " (428, 'meant'),\n",
              " (429, 'meet'),\n",
              " (430, 'member'),\n",
              " (431, 'memory'),\n",
              " (432, 'men'),\n",
              " (433, 'mental'),\n",
              " (434, 'mention'),\n",
              " (435, 'mentioned'),\n",
              " (436, 'message'),\n",
              " (437, 'met'),\n",
              " (438, 'middle'),\n",
              " (439, 'might'),\n",
              " (440, 'mind'),\n",
              " (441, 'mine'),\n",
              " (442, 'minute'),\n",
              " (443, 'miss'),\n",
              " (444, 'mistake'),\n",
              " (445, 'mom'),\n",
              " (446, 'moment'),\n",
              " (447, 'money'),\n",
              " (448, 'month'),\n",
              " (449, 'mood'),\n",
              " (450, 'morning'),\n",
              " (451, 'mostly'),\n",
              " (452, 'mother'),\n",
              " (453, 'move'),\n",
              " (454, 'movie'),\n",
              " (455, 'music'),\n",
              " (456, 'must'),\n",
              " (457, 'name'),\n",
              " (458, 'natural'),\n",
              " (459, 'naturally'),\n",
              " (460, 'nature'),\n",
              " (461, 'ne'),\n",
              " (462, 'necessarily'),\n",
              " (463, 'needed'),\n",
              " (464, 'negative'),\n",
              " (465, 'new'),\n",
              " (466, 'next'),\n",
              " (467, 'ni'),\n",
              " (468, 'nice'),\n",
              " (469, 'night'),\n",
              " (470, 'non'),\n",
              " (471, 'none'),\n",
              " (472, 'normal'),\n",
              " (473, 'note'),\n",
              " (474, 'nothing'),\n",
              " (475, 'notice'),\n",
              " (476, 'noticed'),\n",
              " (477, 'nt'),\n",
              " (478, 'number'),\n",
              " (479, 'obvious'),\n",
              " (480, 'obviously'),\n",
              " (481, 'often'),\n",
              " (482, 'oh'),\n",
              " (483, 'ok'),\n",
              " (484, 'okay'),\n",
              " (485, 'old'),\n",
              " (486, 'older'),\n",
              " (487, 'online'),\n",
              " (488, 'op'),\n",
              " (489, 'open'),\n",
              " (490, 'opinion'),\n",
              " (491, 'opposite'),\n",
              " (492, 'option'),\n",
              " (493, 'order'),\n",
              " (494, 'original'),\n",
              " (495, 'others'),\n",
              " (496, 'otherwise'),\n",
              " (497, 'outside'),\n",
              " (498, 'page'),\n",
              " (499, 'pain'),\n",
              " (500, 'parent'),\n",
              " (501, 'part'),\n",
              " (502, 'particular'),\n",
              " (503, 'particularly'),\n",
              " (504, 'partner'),\n",
              " (505, 'party'),\n",
              " (506, 'past'),\n",
              " (507, 'pay'),\n",
              " (508, 'perc'),\n",
              " (509, 'perfect'),\n",
              " (510, 'perhaps'),\n",
              " (511, 'period'),\n",
              " (512, 'personal'),\n",
              " (513, 'personality'),\n",
              " (514, 'personally'),\n",
              " (515, 'perspective'),\n",
              " (516, 'phone'),\n",
              " (517, 'physical'),\n",
              " (518, 'pick'),\n",
              " (519, 'picture'),\n",
              " (520, 'piece'),\n",
              " (521, 'place'),\n",
              " (522, 'plan'),\n",
              " (523, 'play'),\n",
              " (524, 'playing'),\n",
              " (525, 'please'),\n",
              " (526, 'plus'),\n",
              " (527, 'point'),\n",
              " (528, 'positive'),\n",
              " (529, 'possibility'),\n",
              " (530, 'possible'),\n",
              " (531, 'possibly'),\n",
              " (532, 'post'),\n",
              " (533, 'posted'),\n",
              " (534, 'posting'),\n",
              " (535, 'power'),\n",
              " (536, 'prefer'),\n",
              " (537, 'present'),\n",
              " (538, 'pretty'),\n",
              " (539, 'probably'),\n",
              " (540, 'problem'),\n",
              " (541, 'process'),\n",
              " (542, 'project'),\n",
              " (543, 'proud'),\n",
              " (544, 'public'),\n",
              " (545, 'purpose'),\n",
              " (546, 'put'),\n",
              " (547, 'putting'),\n",
              " (548, 'quality'),\n",
              " (549, 'question'),\n",
              " (550, 'quickly'),\n",
              " (551, 'quiet'),\n",
              " (552, 'quite'),\n",
              " (553, 'quote'),\n",
              " (554, 'random'),\n",
              " (555, 'rare'),\n",
              " (556, 'rarely'),\n",
              " (557, 'rather'),\n",
              " (558, 'read'),\n",
              " (559, 'reading'),\n",
              " (560, 'real'),\n",
              " (561, 'reality'),\n",
              " (562, 'realize'),\n",
              " (563, 'realized'),\n",
              " (564, 'reason'),\n",
              " (565, 'recently'),\n",
              " (566, 'red'),\n",
              " (567, 'relate'),\n",
              " (568, 'related'),\n",
              " (569, 'relationship'),\n",
              " (570, 'religion'),\n",
              " (571, 'remember'),\n",
              " (572, 'reply'),\n",
              " (573, 'research'),\n",
              " (574, 'respect'),\n",
              " (575, 'response'),\n",
              " (576, 'rest'),\n",
              " (577, 'result'),\n",
              " (578, 'romantic'),\n",
              " (579, 'room'),\n",
              " (580, 'rule'),\n",
              " (581, 'run'),\n",
              " (582, 'sad'),\n",
              " (583, 'said'),\n",
              " (584, 'saw'),\n",
              " (585, 'saying'),\n",
              " (586, 'school'),\n",
              " (587, 'science'),\n",
              " (588, 'se'),\n",
              " (589, 'second'),\n",
              " (590, 'seeing'),\n",
              " (591, 'seem'),\n",
              " (592, 'seemed'),\n",
              " (593, 'seems'),\n",
              " (594, 'seen'),\n",
              " (595, 'self'),\n",
              " (596, 'sense'),\n",
              " (597, 'sensitive'),\n",
              " (598, 'series'),\n",
              " (599, 'serious'),\n",
              " (600, 'seriously'),\n",
              " (601, 'set'),\n",
              " (602, 'several'),\n",
              " (603, 'sex'),\n",
              " (604, 'share'),\n",
              " (605, 'shit'),\n",
              " (606, 'short'),\n",
              " (607, 'show'),\n",
              " (608, 'shy'),\n",
              " (609, 'si'),\n",
              " (610, 'side'),\n",
              " (611, 'sign'),\n",
              " (612, 'similar'),\n",
              " (613, 'simple'),\n",
              " (614, 'simply'),\n",
              " (615, 'since'),\n",
              " (616, 'single'),\n",
              " (617, 'sister'),\n",
              " (618, 'sit'),\n",
              " (619, 'site'),\n",
              " (620, 'situation'),\n",
              " (621, 'skill'),\n",
              " (622, 'sleep'),\n",
              " (623, 'small'),\n",
              " (624, 'smart'),\n",
              " (625, 'smile'),\n",
              " (626, 'social'),\n",
              " (627, 'society'),\n",
              " (628, 'somehow'),\n",
              " (629, 'sometimes'),\n",
              " (630, 'somewhat'),\n",
              " (631, 'somewhere'),\n",
              " (632, 'song'),\n",
              " (633, 'soon'),\n",
              " (634, 'sorry'),\n",
              " (635, 'sort'),\n",
              " (636, 'soul'),\n",
              " (637, 'sound'),\n",
              " (638, 'space'),\n",
              " (639, 'speak'),\n",
              " (640, 'speaking'),\n",
              " (641, 'special'),\n",
              " (642, 'specific'),\n",
              " (643, 'spend'),\n",
              " (644, 'spent'),\n",
              " (645, 'stand'),\n",
              " (646, 'start'),\n",
              " (647, 'started'),\n",
              " (648, 'starting'),\n",
              " (649, 'state'),\n",
              " (650, 'statement'),\n",
              " (651, 'stay'),\n",
              " (652, 'step'),\n",
              " (653, 'stereotype'),\n",
              " (654, 'stick'),\n",
              " (655, 'still'),\n",
              " (656, 'stop'),\n",
              " (657, 'story'),\n",
              " (658, 'straight'),\n",
              " (659, 'strange'),\n",
              " (660, 'stress'),\n",
              " (661, 'strong'),\n",
              " (662, 'stuck'),\n",
              " (663, 'student'),\n",
              " (664, 'study'),\n",
              " (665, 'stuff'),\n",
              " (666, 'stupid'),\n",
              " (667, 'style'),\n",
              " (668, 'subject'),\n",
              " (669, 'suck'),\n",
              " (670, 'super'),\n",
              " (671, 'support'),\n",
              " (672, 'suppose'),\n",
              " (673, 'supposed'),\n",
              " (674, 'sure'),\n",
              " (675, 'surprised'),\n",
              " (676, 'sweet'),\n",
              " (677, 'system'),\n",
              " (678, 'take'),\n",
              " (679, 'taken'),\n",
              " (680, 'taking'),\n",
              " (681, 'talk'),\n",
              " (682, 'talking'),\n",
              " (683, 'te'),\n",
              " (684, 'teacher'),\n",
              " (685, 'tell'),\n",
              " (686, 'telling'),\n",
              " (687, 'tend'),\n",
              " (688, 'tendency'),\n",
              " (689, 'term'),\n",
              " (690, 'terrible'),\n",
              " (691, 'test'),\n",
              " (692, 'text'),\n",
              " (693, 'th'),\n",
              " (694, 'thank'),\n",
              " (695, 'thanks'),\n",
              " (696, 'theory'),\n",
              " (697, 'thinking'),\n",
              " (698, 'thread'),\n",
              " (699, 'three'),\n",
              " (700, 'ti'),\n",
              " (701, 'tired'),\n",
              " (702, 'title'),\n",
              " (703, 'today'),\n",
              " (704, 'together'),\n",
              " (705, 'told'),\n",
              " (706, 'tongue'),\n",
              " (707, 'took'),\n",
              " (708, 'top'),\n",
              " (709, 'topic'),\n",
              " (710, 'totally'),\n",
              " (711, 'touch'),\n",
              " (712, 'towards'),\n",
              " (713, 'trait'),\n",
              " (714, 'tried'),\n",
              " (715, 'trouble'),\n",
              " (716, 'true'),\n",
              " (717, 'truly'),\n",
              " (718, 'trust'),\n",
              " (719, 'truth'),\n",
              " (720, 'try'),\n",
              " (721, 'trying'),\n",
              " (722, 'turn'),\n",
              " (723, 'tv'),\n",
              " (724, 'two'),\n",
              " (725, 'typing'),\n",
              " (726, 'understand'),\n",
              " (727, 'understanding'),\n",
              " (728, 'unfortunately'),\n",
              " (729, 'unhealthy'),\n",
              " (730, 'unless'),\n",
              " (731, 'unsure'),\n",
              " (732, 'upon'),\n",
              " (733, 'use'),\n",
              " (734, 'used'),\n",
              " (735, 'useful'),\n",
              " (736, 'user'),\n",
              " (737, 'using'),\n",
              " (738, 'usually'),\n",
              " (739, 'value'),\n",
              " (740, 'video'),\n",
              " (741, 'view'),\n",
              " (742, 'voice'),\n",
              " (743, 'wait'),\n",
              " (744, 'walk'),\n",
              " (745, 'wanted'),\n",
              " (746, 'wanting'),\n",
              " (747, 'watch'),\n",
              " (748, 'watched'),\n",
              " (749, 'watching'),\n",
              " (750, 'water'),\n",
              " (751, 'wear'),\n",
              " (752, 'week'),\n",
              " (753, 'weird'),\n",
              " (754, 'welcome'),\n",
              " (755, 'went'),\n",
              " (756, 'whatever'),\n",
              " (757, 'whenever'),\n",
              " (758, 'whether'),\n",
              " (759, 'white'),\n",
              " (760, 'whole'),\n",
              " (761, 'wink'),\n",
              " (762, 'wish'),\n",
              " (763, 'within'),\n",
              " (764, 'without'),\n",
              " (765, 'woman'),\n",
              " (766, 'wonder'),\n",
              " (767, 'wondering'),\n",
              " (768, 'word'),\n",
              " (769, 'work'),\n",
              " (770, 'worked'),\n",
              " (771, 'working'),\n",
              " (772, 'world'),\n",
              " (773, 'worry'),\n",
              " (774, 'worse'),\n",
              " (775, 'worst'),\n",
              " (776, 'worth'),\n",
              " (777, 'wow'),\n",
              " (778, 'write'),\n",
              " (779, 'writing'),\n",
              " (780, 'written'),\n",
              " (781, 'wrong'),\n",
              " (782, 'wrote'),\n",
              " (783, 'xd'),\n",
              " (784, 'yeah'),\n",
              " (785, 'year'),\n",
              " (786, 'yes'),\n",
              " (787, 'yesterday'),\n",
              " (788, 'yet'),\n",
              " (789, 'young'),\n",
              " (790, 'younger')]"
            ]
          },
          "metadata": {
            "tags": []
          },
          "execution_count": 51
        }
      ]
    },
    {
      "cell_type": "code",
      "metadata": {
        "colab": {
          "base_uri": "https://localhost:8080/"
        },
        "id": "LzbzldUhznBR",
        "outputId": "4cf77cc1-4393-4392-9074-d5f870ddd276"
      },
      "source": [
        "X_tfidf.shape"
      ],
      "execution_count": 52,
      "outputs": [
        {
          "output_type": "execute_result",
          "data": {
            "text/plain": [
              "(8675, 791)"
            ]
          },
          "metadata": {
            "tags": []
          },
          "execution_count": 52
        }
      ]
    },
    {
      "cell_type": "code",
      "metadata": {
        "colab": {
          "base_uri": "https://localhost:8080/"
        },
        "id": "mEtSgF4czpjw",
        "outputId": "6eb92210-7b5b-4efc-fe3e-76b7f6f7cd0c"
      },
      "source": [
        "print(\"X: Posts in tf-idf representation \\n* 1st row:\\n%s\" % X_tfidf[0])"
      ],
      "execution_count": 53,
      "outputs": [
        {
          "output_type": "stream",
          "text": [
            "X: Posts in tf-idf representation \n",
            "* 1st row:\n",
            "[0.         0.         0.         0.         0.         0.\n",
            " 0.         0.         0.         0.         0.         0.\n",
            " 0.         0.         0.08042209 0.06830218 0.         0.\n",
            " 0.         0.         0.         0.         0.         0.\n",
            " 0.         0.         0.         0.         0.         0.\n",
            " 0.         0.         0.         0.         0.         0.\n",
            " 0.         0.         0.10331537 0.         0.04973404 0.\n",
            " 0.         0.         0.         0.         0.         0.\n",
            " 0.         0.         0.         0.         0.         0.\n",
            " 0.         0.10984584 0.         0.         0.         0.08642509\n",
            " 0.         0.         0.10488948 0.         0.         0.\n",
            " 0.         0.         0.05188886 0.06824736 0.         0.\n",
            " 0.         0.         0.         0.         0.         0.\n",
            " 0.         0.         0.         0.         0.         0.\n",
            " 0.         0.         0.         0.         0.         0.\n",
            " 0.         0.         0.         0.         0.         0.\n",
            " 0.         0.         0.         0.         0.         0.\n",
            " 0.         0.         0.         0.         0.16397917 0.\n",
            " 0.10688913 0.         0.09877559 0.         0.         0.\n",
            " 0.04608261 0.         0.         0.         0.         0.\n",
            " 0.         0.0719267  0.         0.         0.         0.\n",
            " 0.         0.         0.         0.         0.         0.\n",
            " 0.07283191 0.07407407 0.         0.10568848 0.         0.\n",
            " 0.         0.         0.         0.         0.         0.\n",
            " 0.1056548  0.         0.         0.         0.         0.\n",
            " 0.         0.         0.         0.04782271 0.         0.\n",
            " 0.09941139 0.09451469 0.         0.         0.         0.\n",
            " 0.         0.         0.         0.         0.         0.\n",
            " 0.         0.         0.         0.         0.         0.\n",
            " 0.         0.         0.         0.         0.         0.\n",
            " 0.         0.         0.         0.         0.         0.\n",
            " 0.         0.         0.         0.         0.         0.09534415\n",
            " 0.         0.         0.         0.         0.         0.\n",
            " 0.         0.         0.         0.         0.         0.\n",
            " 0.06872176 0.         0.         0.         0.         0.\n",
            " 0.         0.         0.05582718 0.11108332 0.         0.\n",
            " 0.         0.         0.         0.         0.         0.\n",
            " 0.         0.12014107 0.         0.         0.         0.\n",
            " 0.         0.         0.         0.         0.         0.\n",
            " 0.         0.         0.         0.         0.         0.\n",
            " 0.15686138 0.         0.         0.         0.         0.\n",
            " 0.         0.         0.         0.08315126 0.         0.\n",
            " 0.         0.         0.         0.         0.         0.\n",
            " 0.         0.         0.         0.         0.         0.\n",
            " 0.         0.         0.         0.         0.06994393 0.\n",
            " 0.         0.28967862 0.         0.         0.         0.\n",
            " 0.         0.         0.18269044 0.         0.         0.\n",
            " 0.         0.         0.         0.         0.         0.\n",
            " 0.         0.         0.         0.         0.         0.\n",
            " 0.         0.         0.         0.         0.         0.\n",
            " 0.         0.0547579  0.         0.         0.         0.07784114\n",
            " 0.08260747 0.         0.         0.09099651 0.         0.\n",
            " 0.         0.07935032 0.         0.12951228 0.         0.\n",
            " 0.         0.         0.         0.         0.         0.\n",
            " 0.         0.         0.         0.         0.         0.\n",
            " 0.         0.         0.         0.         0.05337654 0.\n",
            " 0.         0.         0.         0.         0.         0.\n",
            " 0.         0.         0.         0.         0.         0.\n",
            " 0.         0.         0.         0.         0.         0.\n",
            " 0.         0.         0.         0.         0.         0.\n",
            " 0.         0.         0.05266898 0.         0.         0.\n",
            " 0.         0.         0.         0.         0.         0.05836642\n",
            " 0.0940125  0.         0.         0.         0.         0.\n",
            " 0.         0.         0.07856479 0.09349439 0.         0.06118606\n",
            " 0.         0.16913746 0.         0.         0.         0.\n",
            " 0.         0.0799363  0.         0.         0.         0.\n",
            " 0.         0.         0.         0.0665288  0.         0.\n",
            " 0.         0.         0.         0.         0.         0.\n",
            " 0.         0.         0.         0.         0.         0.\n",
            " 0.         0.09894029 0.         0.         0.         0.\n",
            " 0.04935906 0.         0.         0.0575142  0.05105458 0.\n",
            " 0.04654201 0.         0.         0.         0.         0.\n",
            " 0.         0.         0.         0.         0.         0.\n",
            " 0.09842152 0.         0.         0.         0.09398877 0.\n",
            " 0.         0.         0.14959903 0.         0.         0.\n",
            " 0.         0.         0.         0.08740328 0.07536433 0.06984036\n",
            " 0.         0.         0.09969166 0.         0.         0.\n",
            " 0.         0.         0.         0.05621427 0.07981208 0.\n",
            " 0.         0.         0.         0.         0.         0.09683441\n",
            " 0.06174913 0.         0.         0.         0.         0.\n",
            " 0.         0.         0.         0.         0.         0.06720138\n",
            " 0.         0.         0.         0.         0.         0.\n",
            " 0.         0.         0.         0.         0.         0.\n",
            " 0.         0.         0.         0.1144908  0.         0.\n",
            " 0.         0.         0.         0.         0.10502133 0.\n",
            " 0.         0.         0.         0.05920758 0.         0.\n",
            " 0.         0.         0.         0.         0.         0.\n",
            " 0.         0.07229573 0.         0.         0.         0.\n",
            " 0.         0.         0.         0.         0.         0.08910025\n",
            " 0.         0.         0.         0.         0.         0.\n",
            " 0.         0.         0.         0.09769795 0.10578971 0.\n",
            " 0.         0.         0.         0.         0.10692408 0.\n",
            " 0.         0.         0.         0.         0.         0.\n",
            " 0.         0.         0.         0.         0.         0.\n",
            " 0.056854   0.         0.         0.         0.         0.05655187\n",
            " 0.         0.         0.         0.         0.         0.\n",
            " 0.0967055  0.         0.         0.0884512  0.         0.\n",
            " 0.08325421 0.         0.         0.         0.0608422  0.\n",
            " 0.         0.         0.         0.         0.         0.\n",
            " 0.         0.06417914 0.         0.         0.         0.\n",
            " 0.         0.09239118 0.         0.         0.08242257 0.\n",
            " 0.         0.         0.         0.         0.         0.\n",
            " 0.         0.         0.         0.         0.         0.\n",
            " 0.         0.         0.         0.         0.         0.\n",
            " 0.         0.         0.06822546 0.09769795 0.         0.\n",
            " 0.10175234 0.         0.         0.         0.06439313 0.07327479\n",
            " 0.         0.         0.         0.         0.09874822 0.\n",
            " 0.         0.         0.         0.         0.06190271 0.\n",
            " 0.         0.         0.         0.         0.         0.\n",
            " 0.         0.         0.         0.         0.         0.\n",
            " 0.         0.         0.         0.         0.         0.06592056\n",
            " 0.         0.         0.         0.         0.         0.\n",
            " 0.         0.         0.         0.         0.         0.\n",
            " 0.         0.         0.07897035 0.         0.         0.\n",
            " 0.         0.         0.         0.         0.         0.\n",
            " 0.         0.         0.         0.         0.         0.\n",
            " 0.         0.         0.05092406 0.087854   0.         0.\n",
            " 0.         0.1494126  0.         0.         0.         0.\n",
            " 0.09340105 0.         0.         0.         0.         0.\n",
            " 0.         0.         0.         0.         0.         0.\n",
            " 0.09835864 0.         0.         0.         0.10555797 0.\n",
            " 0.         0.         0.         0.         0.         0.\n",
            " 0.         0.05765739 0.         0.         0.         0.08289525\n",
            " 0.         0.         0.2344923  0.         0.         0.08972042\n",
            " 0.         0.         0.         0.         0.         0.08588141\n",
            " 0.         0.         0.         0.         0.16034096 0.\n",
            " 0.         0.         0.         0.         0.07001317 0.\n",
            " 0.         0.10127672 0.         0.         0.         0.\n",
            " 0.         0.         0.         0.         0.10829927 0.09326152\n",
            " 0.         0.         0.         0.         0.         0.\n",
            " 0.         0.         0.         0.         0.         0.04577982\n",
            " 0.         0.         0.         0.         0.        ]\n"
          ],
          "name": "stdout"
        }
      ]
    },
    {
      "cell_type": "code",
      "metadata": {
        "colab": {
          "base_uri": "https://localhost:8080/"
        },
        "id": "49p6KEPEzqlA",
        "outputId": "6cafdf54-744d-498e-eeb3-d3770cd40842"
      },
      "source": [
        "type_indicators = [ \"IE: Introversion (I) / Extroversion (E)\", \"NS: Intuition (N) – Sensing (S)\", \r\n",
        "                   \"FT: Feeling (F) - Thinking (T)\", \"JP: Judging (J) – Perceiving (P)\"  ]\r\n",
        "\r\n",
        "for l in range(len(type_indicators)):\r\n",
        "    print(type_indicators[l])"
      ],
      "execution_count": 54,
      "outputs": [
        {
          "output_type": "stream",
          "text": [
            "IE: Introversion (I) / Extroversion (E)\n",
            "NS: Intuition (N) – Sensing (S)\n",
            "FT: Feeling (F) - Thinking (T)\n",
            "JP: Judging (J) – Perceiving (P)\n"
          ],
          "name": "stdout"
        }
      ]
    },
    {
      "cell_type": "code",
      "metadata": {
        "colab": {
          "base_uri": "https://localhost:8080/"
        },
        "id": "cPeLuJjtzvuI",
        "outputId": "cdc01be6-6834-4a7d-84e2-302985d6895d"
      },
      "source": [
        "print(\"MBTI 1st row: %s\" % translate_back(list_personality[0,:]))\r\n",
        "print(\"Y: Binarized MBTI 1st row: %s\" % list_personality[0,:])"
      ],
      "execution_count": 55,
      "outputs": [
        {
          "output_type": "stream",
          "text": [
            "MBTI 1st row: INFJ\n",
            "Y: Binarized MBTI 1st row: [0 0 0 0]\n"
          ],
          "name": "stdout"
        }
      ]
    },
    {
      "cell_type": "code",
      "metadata": {
        "colab": {
          "base_uri": "https://localhost:8080/"
        },
        "id": "JUFyPEhwzzDo",
        "outputId": "f7d98721-7f3f-4fcf-c2f4-3af7785d6aba"
      },
      "source": [
        "# First XGBoost model for MBTI dataset\r\n",
        "from numpy import loadtxt\r\n",
        "from xgboost import XGBClassifier\r\n",
        "from sklearn.model_selection import train_test_split\r\n",
        "from sklearn.metrics import accuracy_score\r\n",
        "\r\n",
        "# Posts in tf-idf representation\r\n",
        "X = X_tfidf\r\n",
        "\r\n",
        "# Let's train type indicator individually\r\n",
        "for l in range(len(type_indicators)):\r\n",
        "    print(\"%s ...\" % (type_indicators[l]))\r\n",
        "    \r\n",
        "    # Let's train type indicator individually\r\n",
        "    Y = list_personality[:,l]\r\n",
        "\r\n",
        "    # split data into train and test sets\r\n",
        "    seed = 7\r\n",
        "    test_size = 0.33\r\n",
        "    X_train, X_test, y_train, y_test = train_test_split(X, Y, test_size=test_size, random_state=seed)\r\n",
        "\r\n",
        "    # fit model on training data\r\n",
        "    model = XGBClassifier()\r\n",
        "    model.fit(X_train, y_train)\r\n",
        "\r\n",
        "    # make predictions for test data\r\n",
        "    y_pred = model.predict(X_test)\r\n",
        "    predictions = [round(value) for value in y_pred]\r\n",
        "    # evaluate predictions\r\n",
        "    accuracy = accuracy_score(y_test, predictions)\r\n",
        "    print(\"* %s Accuracy: %.2f%%\" % (type_indicators[l], accuracy * 100.0))"
      ],
      "execution_count": 56,
      "outputs": [
        {
          "output_type": "stream",
          "text": [
            "IE: Introversion (I) / Extroversion (E) ...\n",
            "* IE: Introversion (I) / Extroversion (E) Accuracy: 78.17%\n",
            "NS: Intuition (N) – Sensing (S) ...\n",
            "* NS: Intuition (N) – Sensing (S) Accuracy: 86.06%\n",
            "FT: Feeling (F) - Thinking (T) ...\n",
            "* FT: Feeling (F) - Thinking (T) Accuracy: 71.78%\n",
            "JP: Judging (J) – Perceiving (P) ...\n",
            "* JP: Judging (J) – Perceiving (P) Accuracy: 65.70%\n"
          ],
          "name": "stdout"
        }
      ]
    },
    {
      "cell_type": "code",
      "metadata": {
        "colab": {
          "base_uri": "https://localhost:8080/"
        },
        "id": "M2pkRM-Mz3PI",
        "outputId": "d6033b74-4cf6-4379-c573-2807a56e4ac7"
      },
      "source": [
        "# Let's train type indicator individually\r\n",
        "for l in range(len(type_indicators)):\r\n",
        "    print(\"%s ...\" % (type_indicators[l]))\r\n",
        "    \r\n",
        "    Y = list_personality[:,l]\r\n",
        "\r\n",
        "    # split data into train and test sets\r\n",
        "    seed = 7\r\n",
        "    test_size = 0.33\r\n",
        "    X_train, X_test, y_train, y_test = train_test_split(X, Y, test_size=test_size, random_state=seed)\r\n",
        "\r\n",
        "    # fit model on training data\r\n",
        "    model = XGBClassifier()\r\n",
        "    eval_set = [(X_test, y_test)]\r\n",
        "    model.fit(X_train, y_train, early_stopping_rounds=10, eval_metric=\"logloss\", eval_set=eval_set, verbose=True)\r\n",
        "\r\n",
        "    # make predictions for test data\r\n",
        "    y_pred = model.predict(X_test)\r\n",
        "    predictions = [round(value) for value in y_pred]\r\n",
        "    # evaluate predictions\r\n",
        "    accuracy = accuracy_score(y_test, predictions)\r\n",
        "    print(\"* %s Accuracy: %.2f%%\" % (type_indicators[l], accuracy * 100.0))"
      ],
      "execution_count": 57,
      "outputs": [
        {
          "output_type": "stream",
          "text": [
            "IE: Introversion (I) / Extroversion (E) ...\n",
            "[0]\tvalidation_0-logloss:0.662339\n",
            "Will train until validation_0-logloss hasn't improved in 10 rounds.\n",
            "[1]\tvalidation_0-logloss:0.63731\n",
            "[2]\tvalidation_0-logloss:0.616987\n",
            "[3]\tvalidation_0-logloss:0.600489\n",
            "[4]\tvalidation_0-logloss:0.585572\n",
            "[5]\tvalidation_0-logloss:0.573556\n",
            "[6]\tvalidation_0-logloss:0.564012\n",
            "[7]\tvalidation_0-logloss:0.555671\n",
            "[8]\tvalidation_0-logloss:0.548619\n",
            "[9]\tvalidation_0-logloss:0.542486\n",
            "[10]\tvalidation_0-logloss:0.537856\n",
            "[11]\tvalidation_0-logloss:0.533573\n",
            "[12]\tvalidation_0-logloss:0.529929\n",
            "[13]\tvalidation_0-logloss:0.526731\n",
            "[14]\tvalidation_0-logloss:0.523932\n",
            "[15]\tvalidation_0-logloss:0.521376\n",
            "[16]\tvalidation_0-logloss:0.519124\n",
            "[17]\tvalidation_0-logloss:0.517463\n",
            "[18]\tvalidation_0-logloss:0.515546\n",
            "[19]\tvalidation_0-logloss:0.514147\n",
            "[20]\tvalidation_0-logloss:0.512725\n",
            "[21]\tvalidation_0-logloss:0.511896\n",
            "[22]\tvalidation_0-logloss:0.510745\n",
            "[23]\tvalidation_0-logloss:0.509521\n",
            "[24]\tvalidation_0-logloss:0.508704\n",
            "[25]\tvalidation_0-logloss:0.507358\n",
            "[26]\tvalidation_0-logloss:0.506698\n",
            "[27]\tvalidation_0-logloss:0.506086\n",
            "[28]\tvalidation_0-logloss:0.505834\n",
            "[29]\tvalidation_0-logloss:0.505515\n",
            "[30]\tvalidation_0-logloss:0.505105\n",
            "[31]\tvalidation_0-logloss:0.504035\n",
            "[32]\tvalidation_0-logloss:0.503469\n",
            "[33]\tvalidation_0-logloss:0.502988\n",
            "[34]\tvalidation_0-logloss:0.502912\n",
            "[35]\tvalidation_0-logloss:0.502388\n",
            "[36]\tvalidation_0-logloss:0.502183\n",
            "[37]\tvalidation_0-logloss:0.502166\n",
            "[38]\tvalidation_0-logloss:0.501472\n",
            "[39]\tvalidation_0-logloss:0.501143\n",
            "[40]\tvalidation_0-logloss:0.50078\n",
            "[41]\tvalidation_0-logloss:0.500258\n",
            "[42]\tvalidation_0-logloss:0.500416\n",
            "[43]\tvalidation_0-logloss:0.500032\n",
            "[44]\tvalidation_0-logloss:0.499597\n",
            "[45]\tvalidation_0-logloss:0.499504\n",
            "[46]\tvalidation_0-logloss:0.499336\n",
            "[47]\tvalidation_0-logloss:0.498855\n",
            "[48]\tvalidation_0-logloss:0.498814\n",
            "[49]\tvalidation_0-logloss:0.499009\n",
            "[50]\tvalidation_0-logloss:0.498675\n",
            "[51]\tvalidation_0-logloss:0.497656\n",
            "[52]\tvalidation_0-logloss:0.496876\n",
            "[53]\tvalidation_0-logloss:0.49647\n",
            "[54]\tvalidation_0-logloss:0.496392\n",
            "[55]\tvalidation_0-logloss:0.496134\n",
            "[56]\tvalidation_0-logloss:0.496373\n",
            "[57]\tvalidation_0-logloss:0.496297\n",
            "[58]\tvalidation_0-logloss:0.496109\n",
            "[59]\tvalidation_0-logloss:0.4962\n",
            "[60]\tvalidation_0-logloss:0.496157\n",
            "[61]\tvalidation_0-logloss:0.496194\n",
            "[62]\tvalidation_0-logloss:0.496264\n",
            "[63]\tvalidation_0-logloss:0.495954\n",
            "[64]\tvalidation_0-logloss:0.495514\n",
            "[65]\tvalidation_0-logloss:0.494948\n",
            "[66]\tvalidation_0-logloss:0.494729\n",
            "[67]\tvalidation_0-logloss:0.49413\n",
            "[68]\tvalidation_0-logloss:0.494178\n",
            "[69]\tvalidation_0-logloss:0.493898\n",
            "[70]\tvalidation_0-logloss:0.493791\n",
            "[71]\tvalidation_0-logloss:0.493636\n",
            "[72]\tvalidation_0-logloss:0.493911\n",
            "[73]\tvalidation_0-logloss:0.493721\n",
            "[74]\tvalidation_0-logloss:0.493792\n",
            "[75]\tvalidation_0-logloss:0.49375\n",
            "[76]\tvalidation_0-logloss:0.493721\n",
            "[77]\tvalidation_0-logloss:0.493469\n",
            "[78]\tvalidation_0-logloss:0.493487\n",
            "[79]\tvalidation_0-logloss:0.493669\n",
            "[80]\tvalidation_0-logloss:0.493513\n",
            "[81]\tvalidation_0-logloss:0.493183\n",
            "[82]\tvalidation_0-logloss:0.492905\n",
            "[83]\tvalidation_0-logloss:0.492902\n",
            "[84]\tvalidation_0-logloss:0.493105\n",
            "[85]\tvalidation_0-logloss:0.492951\n",
            "[86]\tvalidation_0-logloss:0.492803\n",
            "[87]\tvalidation_0-logloss:0.492744\n",
            "[88]\tvalidation_0-logloss:0.492444\n",
            "[89]\tvalidation_0-logloss:0.492691\n",
            "[90]\tvalidation_0-logloss:0.492887\n",
            "[91]\tvalidation_0-logloss:0.492851\n",
            "[92]\tvalidation_0-logloss:0.492552\n",
            "[93]\tvalidation_0-logloss:0.492387\n",
            "[94]\tvalidation_0-logloss:0.492318\n",
            "[95]\tvalidation_0-logloss:0.492265\n",
            "[96]\tvalidation_0-logloss:0.491934\n",
            "[97]\tvalidation_0-logloss:0.491976\n",
            "[98]\tvalidation_0-logloss:0.491831\n",
            "[99]\tvalidation_0-logloss:0.49177\n",
            "* IE: Introversion (I) / Extroversion (E) Accuracy: 78.17%\n",
            "NS: Intuition (N) – Sensing (S) ...\n",
            "[0]\tvalidation_0-logloss:0.642701\n",
            "Will train until validation_0-logloss hasn't improved in 10 rounds.\n",
            "[1]\tvalidation_0-logloss:0.601878\n",
            "[2]\tvalidation_0-logloss:0.568294\n",
            "[3]\tvalidation_0-logloss:0.539858\n",
            "[4]\tvalidation_0-logloss:0.51677\n",
            "[5]\tvalidation_0-logloss:0.496997\n",
            "[6]\tvalidation_0-logloss:0.480352\n",
            "[7]\tvalidation_0-logloss:0.466713\n",
            "[8]\tvalidation_0-logloss:0.455065\n",
            "[9]\tvalidation_0-logloss:0.445317\n",
            "[10]\tvalidation_0-logloss:0.436429\n",
            "[11]\tvalidation_0-logloss:0.429076\n",
            "[12]\tvalidation_0-logloss:0.42289\n",
            "[13]\tvalidation_0-logloss:0.417624\n",
            "[14]\tvalidation_0-logloss:0.413451\n",
            "[15]\tvalidation_0-logloss:0.409951\n",
            "[16]\tvalidation_0-logloss:0.406623\n",
            "[17]\tvalidation_0-logloss:0.403839\n",
            "[18]\tvalidation_0-logloss:0.401645\n",
            "[19]\tvalidation_0-logloss:0.399955\n",
            "[20]\tvalidation_0-logloss:0.398226\n",
            "[21]\tvalidation_0-logloss:0.396559\n",
            "[22]\tvalidation_0-logloss:0.395627\n",
            "[23]\tvalidation_0-logloss:0.394387\n",
            "[24]\tvalidation_0-logloss:0.393097\n",
            "[25]\tvalidation_0-logloss:0.392313\n",
            "[26]\tvalidation_0-logloss:0.391855\n",
            "[27]\tvalidation_0-logloss:0.390801\n",
            "[28]\tvalidation_0-logloss:0.39043\n",
            "[29]\tvalidation_0-logloss:0.389749\n",
            "[30]\tvalidation_0-logloss:0.389318\n",
            "[31]\tvalidation_0-logloss:0.388669\n",
            "[32]\tvalidation_0-logloss:0.388634\n",
            "[33]\tvalidation_0-logloss:0.388633\n",
            "[34]\tvalidation_0-logloss:0.388568\n",
            "[35]\tvalidation_0-logloss:0.388836\n",
            "[36]\tvalidation_0-logloss:0.388408\n",
            "[37]\tvalidation_0-logloss:0.388062\n",
            "[38]\tvalidation_0-logloss:0.387969\n",
            "[39]\tvalidation_0-logloss:0.387252\n",
            "[40]\tvalidation_0-logloss:0.386903\n",
            "[41]\tvalidation_0-logloss:0.38668\n",
            "[42]\tvalidation_0-logloss:0.38598\n",
            "[43]\tvalidation_0-logloss:0.385785\n",
            "[44]\tvalidation_0-logloss:0.385584\n",
            "[45]\tvalidation_0-logloss:0.385341\n",
            "[46]\tvalidation_0-logloss:0.385684\n",
            "[47]\tvalidation_0-logloss:0.385638\n",
            "[48]\tvalidation_0-logloss:0.385242\n",
            "[49]\tvalidation_0-logloss:0.385053\n",
            "[50]\tvalidation_0-logloss:0.384401\n",
            "[51]\tvalidation_0-logloss:0.384228\n",
            "[52]\tvalidation_0-logloss:0.383847\n",
            "[53]\tvalidation_0-logloss:0.383779\n",
            "[54]\tvalidation_0-logloss:0.383628\n",
            "[55]\tvalidation_0-logloss:0.383116\n",
            "[56]\tvalidation_0-logloss:0.382785\n",
            "[57]\tvalidation_0-logloss:0.382525\n",
            "[58]\tvalidation_0-logloss:0.382335\n",
            "[59]\tvalidation_0-logloss:0.382673\n",
            "[60]\tvalidation_0-logloss:0.382594\n",
            "[61]\tvalidation_0-logloss:0.382428\n",
            "[62]\tvalidation_0-logloss:0.382455\n",
            "[63]\tvalidation_0-logloss:0.382537\n",
            "[64]\tvalidation_0-logloss:0.382055\n",
            "[65]\tvalidation_0-logloss:0.381827\n",
            "[66]\tvalidation_0-logloss:0.381808\n",
            "[67]\tvalidation_0-logloss:0.381119\n",
            "[68]\tvalidation_0-logloss:0.381123\n",
            "[69]\tvalidation_0-logloss:0.381139\n",
            "[70]\tvalidation_0-logloss:0.380914\n",
            "[71]\tvalidation_0-logloss:0.380297\n",
            "[72]\tvalidation_0-logloss:0.380106\n",
            "[73]\tvalidation_0-logloss:0.37977\n",
            "[74]\tvalidation_0-logloss:0.379409\n",
            "[75]\tvalidation_0-logloss:0.379249\n",
            "[76]\tvalidation_0-logloss:0.379398\n",
            "[77]\tvalidation_0-logloss:0.379164\n",
            "[78]\tvalidation_0-logloss:0.37898\n",
            "[79]\tvalidation_0-logloss:0.378869\n",
            "[80]\tvalidation_0-logloss:0.378721\n",
            "[81]\tvalidation_0-logloss:0.3786\n",
            "[82]\tvalidation_0-logloss:0.378587\n",
            "[83]\tvalidation_0-logloss:0.37861\n",
            "[84]\tvalidation_0-logloss:0.378436\n",
            "[85]\tvalidation_0-logloss:0.378543\n",
            "[86]\tvalidation_0-logloss:0.378326\n",
            "[87]\tvalidation_0-logloss:0.378266\n",
            "[88]\tvalidation_0-logloss:0.378108\n",
            "[89]\tvalidation_0-logloss:0.378002\n",
            "[90]\tvalidation_0-logloss:0.377905\n",
            "[91]\tvalidation_0-logloss:0.377785\n",
            "[92]\tvalidation_0-logloss:0.377809\n",
            "[93]\tvalidation_0-logloss:0.37765\n",
            "[94]\tvalidation_0-logloss:0.377314\n",
            "[95]\tvalidation_0-logloss:0.377255\n",
            "[96]\tvalidation_0-logloss:0.377561\n",
            "[97]\tvalidation_0-logloss:0.377475\n",
            "[98]\tvalidation_0-logloss:0.377423\n",
            "[99]\tvalidation_0-logloss:0.377514\n",
            "* NS: Intuition (N) – Sensing (S) Accuracy: 86.06%\n",
            "FT: Feeling (F) - Thinking (T) ...\n",
            "[0]\tvalidation_0-logloss:0.68699\n",
            "Will train until validation_0-logloss hasn't improved in 10 rounds.\n",
            "[1]\tvalidation_0-logloss:0.680875\n",
            "[2]\tvalidation_0-logloss:0.676441\n",
            "[3]\tvalidation_0-logloss:0.672395\n",
            "[4]\tvalidation_0-logloss:0.667746\n",
            "[5]\tvalidation_0-logloss:0.663266\n",
            "[6]\tvalidation_0-logloss:0.660066\n",
            "[7]\tvalidation_0-logloss:0.656578\n",
            "[8]\tvalidation_0-logloss:0.653645\n",
            "[9]\tvalidation_0-logloss:0.650405\n",
            "[10]\tvalidation_0-logloss:0.647306\n",
            "[11]\tvalidation_0-logloss:0.64404\n",
            "[12]\tvalidation_0-logloss:0.641585\n",
            "[13]\tvalidation_0-logloss:0.638322\n",
            "[14]\tvalidation_0-logloss:0.635639\n",
            "[15]\tvalidation_0-logloss:0.633524\n",
            "[16]\tvalidation_0-logloss:0.631807\n",
            "[17]\tvalidation_0-logloss:0.630129\n",
            "[18]\tvalidation_0-logloss:0.627787\n",
            "[19]\tvalidation_0-logloss:0.626059\n",
            "[20]\tvalidation_0-logloss:0.624537\n",
            "[21]\tvalidation_0-logloss:0.62243\n",
            "[22]\tvalidation_0-logloss:0.620699\n",
            "[23]\tvalidation_0-logloss:0.619017\n",
            "[24]\tvalidation_0-logloss:0.617105\n",
            "[25]\tvalidation_0-logloss:0.615611\n",
            "[26]\tvalidation_0-logloss:0.614606\n",
            "[27]\tvalidation_0-logloss:0.612684\n",
            "[28]\tvalidation_0-logloss:0.611047\n",
            "[29]\tvalidation_0-logloss:0.609578\n",
            "[30]\tvalidation_0-logloss:0.608735\n",
            "[31]\tvalidation_0-logloss:0.607638\n",
            "[32]\tvalidation_0-logloss:0.606004\n",
            "[33]\tvalidation_0-logloss:0.6044\n",
            "[34]\tvalidation_0-logloss:0.603226\n",
            "[35]\tvalidation_0-logloss:0.601777\n",
            "[36]\tvalidation_0-logloss:0.600577\n",
            "[37]\tvalidation_0-logloss:0.599289\n",
            "[38]\tvalidation_0-logloss:0.598361\n",
            "[39]\tvalidation_0-logloss:0.59679\n",
            "[40]\tvalidation_0-logloss:0.595524\n",
            "[41]\tvalidation_0-logloss:0.594331\n",
            "[42]\tvalidation_0-logloss:0.593455\n",
            "[43]\tvalidation_0-logloss:0.592369\n",
            "[44]\tvalidation_0-logloss:0.591068\n",
            "[45]\tvalidation_0-logloss:0.589851\n",
            "[46]\tvalidation_0-logloss:0.588608\n",
            "[47]\tvalidation_0-logloss:0.587813\n",
            "[48]\tvalidation_0-logloss:0.586748\n",
            "[49]\tvalidation_0-logloss:0.585916\n",
            "[50]\tvalidation_0-logloss:0.585181\n",
            "[51]\tvalidation_0-logloss:0.584326\n",
            "[52]\tvalidation_0-logloss:0.583632\n",
            "[53]\tvalidation_0-logloss:0.583006\n",
            "[54]\tvalidation_0-logloss:0.582656\n",
            "[55]\tvalidation_0-logloss:0.582249\n",
            "[56]\tvalidation_0-logloss:0.581621\n",
            "[57]\tvalidation_0-logloss:0.581013\n",
            "[58]\tvalidation_0-logloss:0.579885\n",
            "[59]\tvalidation_0-logloss:0.579103\n",
            "[60]\tvalidation_0-logloss:0.578466\n",
            "[61]\tvalidation_0-logloss:0.577755\n",
            "[62]\tvalidation_0-logloss:0.576801\n",
            "[63]\tvalidation_0-logloss:0.576105\n",
            "[64]\tvalidation_0-logloss:0.575573\n",
            "[65]\tvalidation_0-logloss:0.574635\n",
            "[66]\tvalidation_0-logloss:0.574103\n",
            "[67]\tvalidation_0-logloss:0.573367\n",
            "[68]\tvalidation_0-logloss:0.572391\n",
            "[69]\tvalidation_0-logloss:0.571664\n",
            "[70]\tvalidation_0-logloss:0.571227\n",
            "[71]\tvalidation_0-logloss:0.570477\n",
            "[72]\tvalidation_0-logloss:0.569631\n",
            "[73]\tvalidation_0-logloss:0.568729\n",
            "[74]\tvalidation_0-logloss:0.568403\n",
            "[75]\tvalidation_0-logloss:0.567981\n",
            "[76]\tvalidation_0-logloss:0.567365\n",
            "[77]\tvalidation_0-logloss:0.566824\n",
            "[78]\tvalidation_0-logloss:0.566137\n",
            "[79]\tvalidation_0-logloss:0.565949\n",
            "[80]\tvalidation_0-logloss:0.565291\n",
            "[81]\tvalidation_0-logloss:0.564828\n",
            "[82]\tvalidation_0-logloss:0.564255\n",
            "[83]\tvalidation_0-logloss:0.563892\n",
            "[84]\tvalidation_0-logloss:0.56315\n",
            "[85]\tvalidation_0-logloss:0.562799\n",
            "[86]\tvalidation_0-logloss:0.562641\n",
            "[87]\tvalidation_0-logloss:0.562472\n",
            "[88]\tvalidation_0-logloss:0.561927\n",
            "[89]\tvalidation_0-logloss:0.56132\n",
            "[90]\tvalidation_0-logloss:0.560924\n",
            "[91]\tvalidation_0-logloss:0.56052\n",
            "[92]\tvalidation_0-logloss:0.559885\n",
            "[93]\tvalidation_0-logloss:0.559369\n",
            "[94]\tvalidation_0-logloss:0.559165\n",
            "[95]\tvalidation_0-logloss:0.558879\n",
            "[96]\tvalidation_0-logloss:0.558403\n",
            "[97]\tvalidation_0-logloss:0.5582\n",
            "[98]\tvalidation_0-logloss:0.55801\n",
            "[99]\tvalidation_0-logloss:0.557773\n",
            "* FT: Feeling (F) - Thinking (T) Accuracy: 71.78%\n",
            "JP: Judging (J) – Perceiving (P) ...\n",
            "[0]\tvalidation_0-logloss:0.684115\n",
            "Will train until validation_0-logloss hasn't improved in 10 rounds.\n",
            "[1]\tvalidation_0-logloss:0.676784\n",
            "[2]\tvalidation_0-logloss:0.670084\n",
            "[3]\tvalidation_0-logloss:0.665309\n",
            "[4]\tvalidation_0-logloss:0.661329\n",
            "[5]\tvalidation_0-logloss:0.65796\n",
            "[6]\tvalidation_0-logloss:0.655015\n",
            "[7]\tvalidation_0-logloss:0.651983\n",
            "[8]\tvalidation_0-logloss:0.649615\n",
            "[9]\tvalidation_0-logloss:0.647476\n",
            "[10]\tvalidation_0-logloss:0.645069\n",
            "[11]\tvalidation_0-logloss:0.643493\n",
            "[12]\tvalidation_0-logloss:0.64246\n",
            "[13]\tvalidation_0-logloss:0.641341\n",
            "[14]\tvalidation_0-logloss:0.640293\n",
            "[15]\tvalidation_0-logloss:0.639504\n",
            "[16]\tvalidation_0-logloss:0.63837\n",
            "[17]\tvalidation_0-logloss:0.637502\n",
            "[18]\tvalidation_0-logloss:0.636853\n",
            "[19]\tvalidation_0-logloss:0.636331\n",
            "[20]\tvalidation_0-logloss:0.63597\n",
            "[21]\tvalidation_0-logloss:0.635485\n",
            "[22]\tvalidation_0-logloss:0.63452\n",
            "[23]\tvalidation_0-logloss:0.634285\n",
            "[24]\tvalidation_0-logloss:0.633792\n",
            "[25]\tvalidation_0-logloss:0.633419\n",
            "[26]\tvalidation_0-logloss:0.632502\n",
            "[27]\tvalidation_0-logloss:0.631964\n",
            "[28]\tvalidation_0-logloss:0.631918\n",
            "[29]\tvalidation_0-logloss:0.631612\n",
            "[30]\tvalidation_0-logloss:0.630887\n",
            "[31]\tvalidation_0-logloss:0.630196\n",
            "[32]\tvalidation_0-logloss:0.630001\n",
            "[33]\tvalidation_0-logloss:0.629708\n",
            "[34]\tvalidation_0-logloss:0.629344\n",
            "[35]\tvalidation_0-logloss:0.628523\n",
            "[36]\tvalidation_0-logloss:0.628488\n",
            "[37]\tvalidation_0-logloss:0.628436\n",
            "[38]\tvalidation_0-logloss:0.627664\n",
            "[39]\tvalidation_0-logloss:0.627234\n",
            "[40]\tvalidation_0-logloss:0.62727\n",
            "[41]\tvalidation_0-logloss:0.627015\n",
            "[42]\tvalidation_0-logloss:0.626586\n",
            "[43]\tvalidation_0-logloss:0.626355\n",
            "[44]\tvalidation_0-logloss:0.626437\n",
            "[45]\tvalidation_0-logloss:0.626113\n",
            "[46]\tvalidation_0-logloss:0.625829\n",
            "[47]\tvalidation_0-logloss:0.625961\n",
            "[48]\tvalidation_0-logloss:0.625955\n",
            "[49]\tvalidation_0-logloss:0.626048\n",
            "[50]\tvalidation_0-logloss:0.62565\n",
            "[51]\tvalidation_0-logloss:0.625343\n",
            "[52]\tvalidation_0-logloss:0.6252\n",
            "[53]\tvalidation_0-logloss:0.624914\n",
            "[54]\tvalidation_0-logloss:0.624589\n",
            "[55]\tvalidation_0-logloss:0.624122\n",
            "[56]\tvalidation_0-logloss:0.624117\n",
            "[57]\tvalidation_0-logloss:0.624063\n",
            "[58]\tvalidation_0-logloss:0.623617\n",
            "[59]\tvalidation_0-logloss:0.623444\n",
            "[60]\tvalidation_0-logloss:0.623091\n",
            "[61]\tvalidation_0-logloss:0.623046\n",
            "[62]\tvalidation_0-logloss:0.622872\n",
            "[63]\tvalidation_0-logloss:0.623084\n",
            "[64]\tvalidation_0-logloss:0.622973\n",
            "[65]\tvalidation_0-logloss:0.623051\n",
            "[66]\tvalidation_0-logloss:0.622714\n",
            "[67]\tvalidation_0-logloss:0.622807\n",
            "[68]\tvalidation_0-logloss:0.622861\n",
            "[69]\tvalidation_0-logloss:0.622433\n",
            "[70]\tvalidation_0-logloss:0.622073\n",
            "[71]\tvalidation_0-logloss:0.622032\n",
            "[72]\tvalidation_0-logloss:0.621953\n",
            "[73]\tvalidation_0-logloss:0.621886\n",
            "[74]\tvalidation_0-logloss:0.621886\n",
            "[75]\tvalidation_0-logloss:0.62214\n",
            "[76]\tvalidation_0-logloss:0.622075\n",
            "[77]\tvalidation_0-logloss:0.62206\n",
            "[78]\tvalidation_0-logloss:0.621652\n",
            "[79]\tvalidation_0-logloss:0.621416\n",
            "[80]\tvalidation_0-logloss:0.621335\n",
            "[81]\tvalidation_0-logloss:0.621408\n",
            "[82]\tvalidation_0-logloss:0.621032\n",
            "[83]\tvalidation_0-logloss:0.62105\n",
            "[84]\tvalidation_0-logloss:0.621188\n",
            "[85]\tvalidation_0-logloss:0.621117\n",
            "[86]\tvalidation_0-logloss:0.621185\n",
            "[87]\tvalidation_0-logloss:0.621267\n",
            "[88]\tvalidation_0-logloss:0.620907\n",
            "[89]\tvalidation_0-logloss:0.620895\n",
            "[90]\tvalidation_0-logloss:0.620547\n",
            "[91]\tvalidation_0-logloss:0.620165\n",
            "[92]\tvalidation_0-logloss:0.620031\n",
            "[93]\tvalidation_0-logloss:0.619816\n",
            "[94]\tvalidation_0-logloss:0.619812\n",
            "[95]\tvalidation_0-logloss:0.619879\n",
            "[96]\tvalidation_0-logloss:0.620166\n",
            "[97]\tvalidation_0-logloss:0.619737\n",
            "[98]\tvalidation_0-logloss:0.619703\n",
            "[99]\tvalidation_0-logloss:0.619653\n",
            "* JP: Judging (J) – Perceiving (P) Accuracy: 65.70%\n"
          ],
          "name": "stdout"
        }
      ]
    },
    {
      "cell_type": "code",
      "metadata": {
        "colab": {
          "base_uri": "https://localhost:8080/",
          "height": 1000
        },
        "id": "meyJa0rRz6_L",
        "outputId": "537f5a69-db19-43d8-ed7d-9b4017115e91"
      },
      "source": [
        "from xgboost import plot_importance\r\n",
        "\r\n",
        "# Only the 1st indicator\r\n",
        "y = list_personality[:,0]\r\n",
        "# fit model on training data\r\n",
        "model = XGBClassifier()\r\n",
        "model.fit(X, y)\r\n",
        "# plot feature importance\r\n",
        "ax = plot_importance(model, max_num_features=25)\r\n",
        "\r\n",
        "fig = ax.figure\r\n",
        "fig.set_size_inches(15, 20)\r\n",
        "\r\n",
        "plt.show()"
      ],
      "execution_count": 58,
      "outputs": [
        {
          "output_type": "display_data",
          "data": {
            "image/png": "[encoded data removed]",
            "text/plain": [
              "<Figure size 1080x1440 with 1 Axes>"
            ]
          },
          "metadata": {
            "tags": [],
            "needs_background": "light"
          }
        }
      ]
    },
    {
      "cell_type": "code",
      "metadata": {
        "colab": {
          "base_uri": "https://localhost:8080/"
        },
        "id": "CjIM4Xzuz72w",
        "outputId": "d3347a44-e4ef-400d-cf9d-adc4846027f4"
      },
      "source": [
        "features = sorted(list(enumerate(model.feature_importances_)), key=lambda x: x[1], reverse=True)\r\n",
        "for f in features[0:25]:\r\n",
        "    print(\"%d\\t%f\\t%s\" % (f[0],f[1],cntizer.get_feature_names()[f[0]]))\r\n",
        "    \r\n",
        "# Save xgb_params for late discussuin\r\n",
        "default_get_xgb_params = model.get_xgb_params()"
      ],
      "execution_count": 59,
      "outputs": [
        {
          "output_type": "stream",
          "text": [
            "461\t0.009033\tne\n",
            "291\t0.008526\tguy\n",
            "403\t0.007722\tlol\n",
            "267\t0.007063\tfun\n",
            "292\t0.006774\thaha\n",
            "396\t0.006556\tlistening\n",
            "685\t0.006194\ttell\n",
            "761\t0.006189\twink\n",
            "53\t0.006170\tawesome\n",
            "183\t0.006107\tdream\n",
            "772\t0.005912\tworld\n",
            "313\t0.005892\they\n",
            "477\t0.005847\tnt\n",
            "569\t0.005841\trelationship\n",
            "551\t0.005829\tquiet\n",
            "455\t0.005762\tmusic\n",
            "467\t0.005734\tni\n",
            "139\t0.005721\tcrazy\n",
            "265\t0.005697\tfuck\n",
            "271\t0.005654\tgame\n",
            "75\t0.005644\tbored\n",
            "213\t0.005609\teveryone\n",
            "629\t0.005543\tsometimes\n",
            "26\t0.005496\tanimal\n",
            "608\t0.005425\tshy\n"
          ],
          "name": "stdout"
        }
      ]
    },
    {
      "cell_type": "code",
      "metadata": {
        "colab": {
          "base_uri": "https://localhost:8080/"
        },
        "id": "oFuoBMnbz-NQ",
        "outputId": "7fb91b67-8891-4ef9-89fb-f684dd78e03b"
      },
      "source": [
        "# Save xgb_params for later discussuin\r\n",
        "default_get_xgb_params = model.get_xgb_params()\r\n",
        "print (default_get_xgb_params)"
      ],
      "execution_count": 60,
      "outputs": [
        {
          "output_type": "stream",
          "text": [
            "{'base_score': 0.5, 'booster': 'gbtree', 'colsample_bylevel': 1, 'colsample_bynode': 1, 'colsample_bytree': 1, 'gamma': 0, 'learning_rate': 0.1, 'max_delta_step': 0, 'max_depth': 3, 'min_child_weight': 1, 'missing': None, 'n_estimators': 100, 'nthread': 1, 'objective': 'binary:logistic', 'reg_alpha': 0, 'reg_lambda': 1, 'scale_pos_weight': 1, 'seed': 0, 'subsample': 1, 'verbosity': 1}\n"
          ],
          "name": "stdout"
        }
      ]
    },
    {
      "cell_type": "code",
      "metadata": {
        "colab": {
          "base_uri": "https://localhost:8080/"
        },
        "id": "QFQrlYCt0Dmw",
        "outputId": "19426067-a703-4f99-a9a8-fa1c61d178c9"
      },
      "source": [
        "# setup parameters for xgboost\r\n",
        "param = {}\r\n",
        "\r\n",
        "param['n_estimators'] = 200\r\n",
        "param['max_depth'] = 2\r\n",
        "param['nthread'] = 8\r\n",
        "param['learning_rate'] = 0.2\r\n",
        "\r\n",
        "# Let's train type indicator individually\r\n",
        "for l in range(len(type_indicators)):\r\n",
        "    print(\"%s ...\" % (type_indicators[l]))\r\n",
        "    \r\n",
        "    Y = list_personality[:,l]\r\n",
        "\r\n",
        "    # split data into train and test sets\r\n",
        "    seed = 7\r\n",
        "    test_size = 0.33\r\n",
        "    X_train, X_test, y_train, y_test = train_test_split(X, Y, test_size=test_size, random_state=seed)\r\n",
        "\r\n",
        "    # fit model on training data\r\n",
        "    model = XGBClassifier(**param)\r\n",
        "    model.fit(X_train, y_train)\r\n",
        "    # make predictions for test data\r\n",
        "    y_pred = model.predict(X_test)\r\n",
        "    predictions = [round(value) for value in y_pred]\r\n",
        "    # evaluate predictions\r\n",
        "    accuracy = accuracy_score(y_test, predictions)\r\n",
        "    print(\"* %s Accuracy: %.2f%%\" % (type_indicators[l], accuracy * 100.0))"
      ],
      "execution_count": 61,
      "outputs": [
        {
          "output_type": "stream",
          "text": [
            "IE: Introversion (I) / Extroversion (E) ...\n",
            "* IE: Introversion (I) / Extroversion (E) Accuracy: 79.01%\n",
            "NS: Intuition (N) – Sensing (S) ...\n",
            "* NS: Intuition (N) – Sensing (S) Accuracy: 85.96%\n",
            "FT: Feeling (F) - Thinking (T) ...\n",
            "* FT: Feeling (F) - Thinking (T) Accuracy: 74.19%\n",
            "JP: Judging (J) – Perceiving (P) ...\n",
            "* JP: Judging (J) – Perceiving (P) Accuracy: 65.42%\n"
          ],
          "name": "stdout"
        }
      ]
    },
    {
      "cell_type": "code",
      "metadata": {
        "colab": {
          "base_uri": "https://localhost:8080/"
        },
        "id": "fUOuPnmB0FO3",
        "outputId": "fc228668-1244-4986-ec54-869de6febc52"
      },
      "source": [
        "# Tune learning_rate\r\n",
        "from numpy import loadtxt\r\n",
        "from xgboost import XGBClassifier\r\n",
        "from sklearn.model_selection import GridSearchCV\r\n",
        "from sklearn.model_selection import StratifiedKFold\r\n",
        "\r\n",
        "# Posts in tf-idf representation\r\n",
        "X = X_tfidf\r\n",
        "\r\n",
        "# setup parameters for xgboost\r\n",
        "param = {}\r\n",
        "param['n_estimators'] = 200\r\n",
        "param['max_depth'] = 2\r\n",
        "param['nthread'] = 8\r\n",
        "param['learning_rate'] = 0.2\r\n",
        "\r\n",
        "\r\n",
        "# Let's train type indicator individually\r\n",
        "for l in range(len(type_indicators)):\r\n",
        "    print(\"%s ...\" % (type_indicators[l]))\r\n",
        "    \r\n",
        "    Y = list_personality[:,l]\r\n",
        "    model = XGBClassifier(**param)\r\n",
        "    # learning_rate = [0.0001, 0.001, 0.01, 0.1, 0.2, 0.3]\r\n",
        "    # param_grid = dict(learning_rate=learning_rate)\r\n",
        "    \r\n",
        "    param_grid = {\r\n",
        "        'n_estimators' : [ 200, 300],\r\n",
        "        'learning_rate': [ 0.2, 0.3]\r\n",
        "        # 'learning_rate': [ 0.01, 0.1, 0.2, 0.3],\r\n",
        "        # 'max_depth': [2,3,4],\r\n",
        "    }\r\n",
        "    \r\n",
        "    \r\n",
        "    kfold = StratifiedKFold(n_splits=10, shuffle=True, random_state=7)\r\n",
        "    grid_search = GridSearchCV(model, param_grid, scoring=\"neg_log_loss\", n_jobs=-1, cv=kfold)\r\n",
        "    grid_result = grid_search.fit(X, Y)\r\n",
        "\r\n",
        "    # summarize results\r\n",
        "    print(\"* Best: %f using %s\" % (grid_result.best_score_, grid_result.best_params_))\r\n",
        "    means = grid_result.cv_results_['mean_test_score']\r\n",
        "    stds = grid_result.cv_results_['std_test_score']\r\n",
        "    params = grid_result.cv_results_['params']\r\n",
        "    for mean, stdev, param in zip(means, stds, params):\r\n",
        "        print(\"* %f (%f) with: %r\" % (mean, stdev, param))"
      ],
      "execution_count": 62,
      "outputs": [
        {
          "output_type": "stream",
          "text": [
            "IE: Introversion (I) / Extroversion (E) ...\n",
            "* Best: -0.496607 using {'learning_rate': 0.2, 'n_estimators': 200}\n",
            "* -0.496607 (0.009291) with: {'learning_rate': 0.2, 'n_estimators': 200}\n",
            "* -0.498587 (0.007900) with: {'learning_rate': 0.2, 'n_estimators': 300}\n",
            "* -0.505122 (0.010825) with: {'learning_rate': 0.3, 'n_estimators': 200}\n",
            "* -0.512983 (0.010218) with: {'learning_rate': 0.3, 'n_estimators': 300}\n",
            "NS: Intuition (N) – Sensing (S) ...\n",
            "* Best: -0.379042 using {'learning_rate': 0.2, 'n_estimators': 200}\n",
            "* -0.379042 (0.009973) with: {'learning_rate': 0.2, 'n_estimators': 200}\n",
            "* -0.388885 (0.010717) with: {'learning_rate': 0.2, 'n_estimators': 300}\n",
            "* -0.402796 (0.009740) with: {'learning_rate': 0.3, 'n_estimators': 200}\n",
            "* -0.422739 (0.011320) with: {'learning_rate': 0.3, 'n_estimators': 300}\n",
            "FT: Feeling (F) - Thinking (T) ...\n",
            "* Best: -0.519274 using {'learning_rate': 0.2, 'n_estimators': 200}\n",
            "* -0.519274 (0.019330) with: {'learning_rate': 0.2, 'n_estimators': 200}\n",
            "* -0.522286 (0.021975) with: {'learning_rate': 0.2, 'n_estimators': 300}\n",
            "* -0.534816 (0.020854) with: {'learning_rate': 0.3, 'n_estimators': 200}\n",
            "* -0.543274 (0.024739) with: {'learning_rate': 0.3, 'n_estimators': 300}\n",
            "JP: Judging (J) – Perceiving (P) ...\n",
            "* Best: -0.628657 using {'learning_rate': 0.2, 'n_estimators': 200}\n",
            "* -0.628657 (0.009327) with: {'learning_rate': 0.2, 'n_estimators': 200}\n",
            "* -0.637992 (0.013991) with: {'learning_rate': 0.2, 'n_estimators': 300}\n",
            "* -0.650043 (0.018774) with: {'learning_rate': 0.3, 'n_estimators': 200}\n",
            "* -0.667613 (0.021990) with: {'learning_rate': 0.3, 'n_estimators': 300}\n"
          ],
          "name": "stdout"
        }
      ]
    },
    {
      "cell_type": "code",
      "metadata": {
        "colab": {
          "base_uri": "https://localhost:8080/"
        },
        "id": "C9XksRf_0L9h",
        "outputId": "d746fa55-0c6d-4317-db52-e35fcd9f69e2"
      },
      "source": [
        "# A few few tweets and blog post\r\n",
        "my_posts  = \"\"\"Getting started with data science and applying machine learning has never been as simple as it is now. There are many free and paid online tutorials and courses out there to help you to get started. I’ve recently started to learn, play, and work on Data Science & Machine Learning on Kaggle.com. In this brief post, I’d like to share my experience with the Kaggle Python Docker image, which simplifies the Data Scientist’s life.\r\n",
        "Awesome #AWS monitoring introduction.\r\n",
        "HPE Software (now @MicroFocusSW) won the platinum reader's choice #ITAWARDS 2017 in the new category #CloudMonitoring\r\n",
        "Certified as AWS Certified Solutions Architect \r\n",
        "Hi, please have a look at my Udacity interview about online learning and machine learning,\r\n",
        "Very interesting to see the  lessons learnt during the HP Operations Orchestration to CloudSlang journey. http://bit.ly/1Xo41ci \r\n",
        "I came across a post on devopsdigest.com and need your input: “70% DevOps organizations Unhappy with DevOps Monitoring Tools”\r\n",
        "In a similar investigation I found out that many DevOps organizations use several monitoring tools in parallel. Senu, Nagios, LogStach and SaaS offerings such as DataDog or SignalFX to name a few. However, one element is missing: Consolidation of alerts and status in a single pane of glass, which enables fast remediation of application and infrastructure uptime and performance issues.\r\n",
        "Sure, there are commercial tools on the market for exactly this use case but these tools are not necessarily optimized for DevOps.\r\n",
        "So, here my question to you: In your DevOps project, have you encountered that the lack of consolidation of alerts and status is a real issue? If yes, how did you approach the problem? Or is an ChatOps approach just right?\r\n",
        "You will probably hear more and more about ChatOps - at conferences, DevOps meet-ups or simply from your co-worker at the coffee station. ChatOps is a term and concept coined by GitHub. It's about the conversation-driven development, automation, and operations.\r\n",
        "Now the question is: why and how would I, as an ops-focused engineer, implement and use ChatOps in my organization? The next question then is: How to include my tools into the chat conversation?\r\n",
        "Let’s begin by having a look at a use case. The Closed Looped Incidents Process (CLIP) can be rejuvenated with ChatOps. The work from the incident detection runs through monitoring until the resolution of issues in your application or infrastructure can be accelerated with improved, cross-team communication and collaboration.\r\n",
        "In this blog post, I am going to describe and share my experience with deploying HP Operations Manager i 10.0 (OMi) on HP Helion Public Cloud. An Infrastructure as a Service platform such as HP Helion Public Cloud Compute is a great place to quickly spin-up a Linux server and install HP Operations Manager i for various use scenarios. An example of a good use case is monitoring workloads across public clouds such as AWS and Azure.\r\n",
        "\"\"\"\r\n",
        "\r\n",
        "# The type is just a dummy so that the data prep fucntion can be reused\r\n",
        "mydata = pd.DataFrame(data={'type': ['INFJ'], 'posts': [my_posts]})\r\n",
        "\r\n",
        "my_posts, dummy  = pre_process_data(mydata, remove_stop_words=True)\r\n",
        "\r\n",
        "my_X_cnt = cntizer.transform(my_posts)\r\n",
        "my_X_tfidf =  tfizer.transform(my_X_cnt).toarray()"
      ],
      "execution_count": 63,
      "outputs": [
        {
          "output_type": "stream",
          "text": [
            "1 of 1 rows\n"
          ],
          "name": "stdout"
        }
      ]
    },
    {
      "cell_type": "code",
      "metadata": {
        "colab": {
          "base_uri": "https://localhost:8080/"
        },
        "id": "lPXVADI50Lzq",
        "outputId": "765df2c0-cf0a-460a-c00f-e9cb53f169f8"
      },
      "source": [
        "# setup parameters for xgboost\r\n",
        "param = {}\r\n",
        "param['n_estimators'] = 200\r\n",
        "param['max_depth'] = 2\r\n",
        "param['nthread'] = 8\r\n",
        "param['learning_rate'] = 0.2\r\n",
        "\r\n",
        "result = []\r\n",
        "# Let's train type indicator individually\r\n",
        "for l in range(len(type_indicators)):\r\n",
        "    print(\"%s ...\" % (type_indicators[l]))\r\n",
        "    \r\n",
        "    Y = list_personality[:,l]\r\n",
        "\r\n",
        "    # split data into train and test sets\r\n",
        "    seed = 7\r\n",
        "    test_size = 0.33\r\n",
        "    X_train, X_test, y_train, y_test = train_test_split(X, Y, test_size=test_size, random_state=seed)\r\n",
        "\r\n",
        "    # fit model on training data\r\n",
        "    model = XGBClassifier(**param)\r\n",
        "    model.fit(X_train, y_train)\r\n",
        "    \r\n",
        "    # make predictions for my  data\r\n",
        "    y_pred = model.predict(my_X_tfidf)\r\n",
        "    result.append(y_pred[0])\r\n",
        "    # print(\"* %s prediction: %s\" % (type_indicators[l], y_pred))"
      ],
      "execution_count": 64,
      "outputs": [
        {
          "output_type": "stream",
          "text": [
            "IE: Introversion (I) / Extroversion (E) ...\n",
            "NS: Intuition (N) – Sensing (S) ...\n",
            "FT: Feeling (F) - Thinking (T) ...\n",
            "JP: Judging (J) – Perceiving (P) ...\n"
          ],
          "name": "stdout"
        }
      ]
    },
    {
      "cell_type": "code",
      "metadata": {
        "colab": {
          "base_uri": "https://localhost:8080/"
        },
        "id": "0ulYc6V00LuI",
        "outputId": "f6656da5-72dd-4741-8670-61ae5714e706"
      },
      "source": [
        "print(\"The result is: \", translate_back(result))"
      ],
      "execution_count": 65,
      "outputs": [
        {
          "output_type": "stream",
          "text": [
            "The result is:  INTJ\n"
          ],
          "name": "stdout"
        }
      ]
    },
    {
      "cell_type": "code",
      "metadata": {
        "id": "JLrRS8wjRTAE"
      },
      "source": [
        "# save model to file\r\n",
        "pickle.dump(model, open(\"pima.pickle.dat\", \"wb\"))"
      ],
      "execution_count": 67,
      "outputs": []
    }
  ]
}